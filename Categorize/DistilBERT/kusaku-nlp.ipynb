{
 "cells": [
  {
   "cell_type": "code",
   "execution_count": 1,
   "id": "3b3e0bb4",
   "metadata": {
    "ExecuteTime": {
     "end_time": "2024-06-04T12:55:57.259696Z",
     "start_time": "2024-06-04T12:55:53.324247Z"
    },
    "execution": {
     "iopub.execute_input": "2024-06-07T17:15:23.261881Z",
     "iopub.status.busy": "2024-06-07T17:15:23.261568Z",
     "iopub.status.idle": "2024-06-07T17:16:53.887867Z",
     "shell.execute_reply": "2024-06-07T17:16:53.886902Z"
    },
    "papermill": {
     "duration": 90.652483,
     "end_time": "2024-06-07T17:16:53.890483",
     "exception": false,
     "start_time": "2024-06-07T17:15:23.238000",
     "status": "completed"
    },
    "tags": []
   },
   "outputs": [
    {
     "name": "stdout",
     "output_type": "stream",
     "text": [
      "Requirement already satisfied: tensorflow in /opt/conda/lib/python3.10/site-packages (2.15.0)\r\n",
      "Collecting tensorflow\r\n",
      "  Downloading tensorflow-2.16.1-cp310-cp310-manylinux_2_17_x86_64.manylinux2014_x86_64.whl.metadata (4.3 kB)\r\n",
      "Requirement already satisfied: transformers[tf-cpu] in /opt/conda/lib/python3.10/site-packages (4.41.2)\r\n",
      "Requirement already satisfied: filelock in /opt/conda/lib/python3.10/site-packages (from transformers[tf-cpu]) (3.13.1)\r\n",
      "Requirement already satisfied: huggingface-hub<1.0,>=0.23.0 in /opt/conda/lib/python3.10/site-packages (from transformers[tf-cpu]) (0.23.2)\r\n",
      "Requirement already satisfied: numpy>=1.17 in /opt/conda/lib/python3.10/site-packages (from transformers[tf-cpu]) (1.26.4)\r\n",
      "Requirement already satisfied: packaging>=20.0 in /opt/conda/lib/python3.10/site-packages (from transformers[tf-cpu]) (21.3)\r\n",
      "Requirement already satisfied: pyyaml>=5.1 in /opt/conda/lib/python3.10/site-packages (from transformers[tf-cpu]) (6.0.1)\r\n",
      "Requirement already satisfied: regex!=2019.12.17 in /opt/conda/lib/python3.10/site-packages (from transformers[tf-cpu]) (2023.12.25)\r\n",
      "Requirement already satisfied: requests in /opt/conda/lib/python3.10/site-packages (from transformers[tf-cpu]) (2.32.3)\r\n",
      "Requirement already satisfied: tokenizers<0.20,>=0.19 in /opt/conda/lib/python3.10/site-packages (from transformers[tf-cpu]) (0.19.1)\r\n",
      "Requirement already satisfied: safetensors>=0.4.1 in /opt/conda/lib/python3.10/site-packages (from transformers[tf-cpu]) (0.4.3)\r\n",
      "Requirement already satisfied: tqdm>=4.27 in /opt/conda/lib/python3.10/site-packages (from transformers[tf-cpu]) (4.66.4)\r\n",
      "Collecting keras<2.16,>2.9 (from transformers[tf-cpu])\r\n",
      "  Downloading keras-2.15.0-py3-none-any.whl.metadata (2.4 kB)\r\n",
      "Collecting tensorflow-cpu<2.16,>2.9 (from transformers[tf-cpu])\r\n",
      "  Downloading tensorflow_cpu-2.15.1-cp310-cp310-manylinux_2_17_x86_64.manylinux2014_x86_64.whl.metadata (4.2 kB)\r\n",
      "Collecting onnxconverter-common (from transformers[tf-cpu])\r\n",
      "  Downloading onnxconverter_common-1.14.0-py2.py3-none-any.whl.metadata (4.2 kB)\r\n",
      "Collecting tf2onnx (from transformers[tf-cpu])\r\n",
      "  Downloading tf2onnx-1.16.1-py3-none-any.whl.metadata (1.3 kB)\r\n",
      "Requirement already satisfied: tensorflow-text<2.16 in /opt/conda/lib/python3.10/site-packages (from transformers[tf-cpu]) (2.15.0)\r\n",
      "Requirement already satisfied: keras-nlp>=0.3.1 in /opt/conda/lib/python3.10/site-packages (from transformers[tf-cpu]) (0.12.1)\r\n",
      "Requirement already satisfied: tensorflow-probability<2.16 in /opt/conda/lib/python3.10/site-packages (from transformers[tf-cpu]) (0.23.0)\r\n",
      "Requirement already satisfied: absl-py>=1.0.0 in /opt/conda/lib/python3.10/site-packages (from tensorflow) (1.4.0)\r\n",
      "Requirement already satisfied: astunparse>=1.6.0 in /opt/conda/lib/python3.10/site-packages (from tensorflow) (1.6.3)\r\n",
      "Requirement already satisfied: flatbuffers>=23.5.26 in /opt/conda/lib/python3.10/site-packages (from tensorflow) (23.5.26)\r\n",
      "Requirement already satisfied: gast!=0.5.0,!=0.5.1,!=0.5.2,>=0.2.1 in /opt/conda/lib/python3.10/site-packages (from tensorflow) (0.5.4)\r\n",
      "Requirement already satisfied: google-pasta>=0.1.1 in /opt/conda/lib/python3.10/site-packages (from tensorflow) (0.2.0)\r\n",
      "Requirement already satisfied: h5py>=3.10.0 in /opt/conda/lib/python3.10/site-packages (from tensorflow) (3.10.0)\r\n",
      "Requirement already satisfied: libclang>=13.0.0 in /opt/conda/lib/python3.10/site-packages (from tensorflow) (16.0.6)\r\n",
      "Collecting ml-dtypes~=0.3.1 (from tensorflow)\r\n",
      "  Downloading ml_dtypes-0.3.2-cp310-cp310-manylinux_2_17_x86_64.manylinux2014_x86_64.whl.metadata (20 kB)\r\n",
      "Requirement already satisfied: opt-einsum>=2.3.2 in /opt/conda/lib/python3.10/site-packages (from tensorflow) (3.3.0)\r\n",
      "Requirement already satisfied: protobuf!=4.21.0,!=4.21.1,!=4.21.2,!=4.21.3,!=4.21.4,!=4.21.5,<5.0.0dev,>=3.20.3 in /opt/conda/lib/python3.10/site-packages (from tensorflow) (3.20.3)\r\n",
      "Requirement already satisfied: setuptools in /opt/conda/lib/python3.10/site-packages (from tensorflow) (69.0.3)\r\n",
      "Requirement already satisfied: six>=1.12.0 in /opt/conda/lib/python3.10/site-packages (from tensorflow) (1.16.0)\r\n",
      "Requirement already satisfied: termcolor>=1.1.0 in /opt/conda/lib/python3.10/site-packages (from tensorflow) (2.4.0)\r\n",
      "Requirement already satisfied: typing-extensions>=3.6.6 in /opt/conda/lib/python3.10/site-packages (from tensorflow) (4.9.0)\r\n",
      "Requirement already satisfied: wrapt>=1.11.0 in /opt/conda/lib/python3.10/site-packages (from tensorflow) (1.14.1)\r\n",
      "Requirement already satisfied: grpcio<2.0,>=1.24.3 in /opt/conda/lib/python3.10/site-packages (from tensorflow) (1.59.3)\r\n",
      "Collecting tensorboard<2.17,>=2.16 (from tensorflow)\r\n",
      "  Downloading tensorboard-2.16.2-py3-none-any.whl.metadata (1.6 kB)\r\n",
      "INFO: pip is looking at multiple versions of tensorflow to determine which version is compatible with other requirements. This could take a while.\r\n",
      "Collecting tensorflow\r\n",
      "  Downloading tensorflow-2.15.1-cp310-cp310-manylinux_2_17_x86_64.manylinux2014_x86_64.whl.metadata (4.2 kB)\r\n",
      "Requirement already satisfied: tensorflow-io-gcs-filesystem>=0.23.1 in /opt/conda/lib/python3.10/site-packages (from tensorflow) (0.35.0)\r\n",
      "Requirement already satisfied: tensorboard<2.16,>=2.15 in /opt/conda/lib/python3.10/site-packages (from tensorflow) (2.15.1)\r\n",
      "Requirement already satisfied: tensorflow-estimator<2.16,>=2.15.0 in /opt/conda/lib/python3.10/site-packages (from tensorflow) (2.15.0)\r\n",
      "Requirement already satisfied: wheel<1.0,>=0.23.0 in /opt/conda/lib/python3.10/site-packages (from astunparse>=1.6.0->tensorflow) (0.42.0)\r\n",
      "Requirement already satisfied: fsspec>=2023.5.0 in /opt/conda/lib/python3.10/site-packages (from huggingface-hub<1.0,>=0.23.0->transformers[tf-cpu]) (2024.3.1)\r\n",
      "Collecting keras-core (from keras-nlp>=0.3.1->transformers[tf-cpu])\r\n",
      "  Downloading keras_core-0.1.7-py3-none-any.whl.metadata (4.3 kB)\r\n",
      "Requirement already satisfied: rich in /opt/conda/lib/python3.10/site-packages (from keras-nlp>=0.3.1->transformers[tf-cpu]) (13.7.0)\r\n",
      "Requirement already satisfied: dm-tree in /opt/conda/lib/python3.10/site-packages (from keras-nlp>=0.3.1->transformers[tf-cpu]) (0.1.8)\r\n",
      "Requirement already satisfied: kagglehub in /opt/conda/lib/python3.10/site-packages (from keras-nlp>=0.3.1->transformers[tf-cpu]) (0.2.5)\r\n",
      "Requirement already satisfied: pyparsing!=3.0.5,>=2.0.2 in /opt/conda/lib/python3.10/site-packages (from packaging>=20.0->transformers[tf-cpu]) (3.1.1)\r\n",
      "Requirement already satisfied: google-auth<3,>=1.6.3 in /opt/conda/lib/python3.10/site-packages (from tensorboard<2.16,>=2.15->tensorflow) (2.26.1)\r\n",
      "Requirement already satisfied: google-auth-oauthlib<2,>=0.5 in /opt/conda/lib/python3.10/site-packages (from tensorboard<2.16,>=2.15->tensorflow) (1.2.0)\r\n",
      "Requirement already satisfied: markdown>=2.6.8 in /opt/conda/lib/python3.10/site-packages (from tensorboard<2.16,>=2.15->tensorflow) (3.5.2)\r\n",
      "Requirement already satisfied: tensorboard-data-server<0.8.0,>=0.7.0 in /opt/conda/lib/python3.10/site-packages (from tensorboard<2.16,>=2.15->tensorflow) (0.7.2)\r\n",
      "Requirement already satisfied: werkzeug>=1.0.1 in /opt/conda/lib/python3.10/site-packages (from tensorboard<2.16,>=2.15->tensorflow) (3.0.3)\r\n",
      "Requirement already satisfied: charset-normalizer<4,>=2 in /opt/conda/lib/python3.10/site-packages (from requests->transformers[tf-cpu]) (3.3.2)\r\n",
      "Requirement already satisfied: idna<4,>=2.5 in /opt/conda/lib/python3.10/site-packages (from requests->transformers[tf-cpu]) (3.6)\r\n",
      "Requirement already satisfied: urllib3<3,>=1.21.1 in /opt/conda/lib/python3.10/site-packages (from requests->transformers[tf-cpu]) (1.26.18)\r\n",
      "Requirement already satisfied: certifi>=2017.4.17 in /opt/conda/lib/python3.10/site-packages (from requests->transformers[tf-cpu]) (2024.2.2)\r\n",
      "Requirement already satisfied: decorator in /opt/conda/lib/python3.10/site-packages (from tensorflow-probability<2.16->transformers[tf-cpu]) (5.1.1)\r\n",
      "Requirement already satisfied: cloudpickle>=1.3 in /opt/conda/lib/python3.10/site-packages (from tensorflow-probability<2.16->transformers[tf-cpu]) (2.2.1)\r\n",
      "Requirement already satisfied: tensorflow-hub>=0.13.0 in /opt/conda/lib/python3.10/site-packages (from tensorflow-text<2.16->transformers[tf-cpu]) (0.16.1)\r\n",
      "Requirement already satisfied: onnx in /opt/conda/lib/python3.10/site-packages (from onnxconverter-common->transformers[tf-cpu]) (1.16.1)\r\n",
      "INFO: pip is looking at multiple versions of onnxconverter-common to determine which version is compatible with other requirements. This could take a while.\r\n",
      "Collecting onnxconverter-common (from transformers[tf-cpu])\r\n",
      "  Downloading onnxconverter_common-1.13.0-py2.py3-none-any.whl.metadata (2.6 kB)\r\n",
      "Requirement already satisfied: cachetools<6.0,>=2.0.0 in /opt/conda/lib/python3.10/site-packages (from google-auth<3,>=1.6.3->tensorboard<2.16,>=2.15->tensorflow) (4.2.4)\r\n",
      "Requirement already satisfied: pyasn1-modules>=0.2.1 in /opt/conda/lib/python3.10/site-packages (from google-auth<3,>=1.6.3->tensorboard<2.16,>=2.15->tensorflow) (0.3.0)\r\n",
      "Requirement already satisfied: rsa<5,>=3.1.4 in /opt/conda/lib/python3.10/site-packages (from google-auth<3,>=1.6.3->tensorboard<2.16,>=2.15->tensorflow) (4.9)\r\n",
      "Requirement already satisfied: requests-oauthlib>=0.7.0 in /opt/conda/lib/python3.10/site-packages (from google-auth-oauthlib<2,>=0.5->tensorboard<2.16,>=2.15->tensorflow) (1.3.1)\r\n",
      "Requirement already satisfied: tf-keras>=2.14.1 in /opt/conda/lib/python3.10/site-packages (from tensorflow-hub>=0.13.0->tensorflow-text<2.16->transformers[tf-cpu]) (2.15.1)\r\n",
      "Requirement already satisfied: MarkupSafe>=2.1.1 in /opt/conda/lib/python3.10/site-packages (from werkzeug>=1.0.1->tensorboard<2.16,>=2.15->tensorflow) (2.1.3)\r\n",
      "Requirement already satisfied: namex in /opt/conda/lib/python3.10/site-packages (from keras-core->keras-nlp>=0.3.1->transformers[tf-cpu]) (0.0.8)\r\n",
      "Requirement already satisfied: markdown-it-py>=2.2.0 in /opt/conda/lib/python3.10/site-packages (from rich->keras-nlp>=0.3.1->transformers[tf-cpu]) (3.0.0)\r\n",
      "Requirement already satisfied: pygments<3.0.0,>=2.13.0 in /opt/conda/lib/python3.10/site-packages (from rich->keras-nlp>=0.3.1->transformers[tf-cpu]) (2.17.2)\r\n",
      "Requirement already satisfied: mdurl~=0.1 in /opt/conda/lib/python3.10/site-packages (from markdown-it-py>=2.2.0->rich->keras-nlp>=0.3.1->transformers[tf-cpu]) (0.1.2)\r\n",
      "Requirement already satisfied: pyasn1<0.6.0,>=0.4.6 in /opt/conda/lib/python3.10/site-packages (from pyasn1-modules>=0.2.1->google-auth<3,>=1.6.3->tensorboard<2.16,>=2.15->tensorflow) (0.5.1)\r\n",
      "Requirement already satisfied: oauthlib>=3.0.0 in /opt/conda/lib/python3.10/site-packages (from requests-oauthlib>=0.7.0->google-auth-oauthlib<2,>=0.5->tensorboard<2.16,>=2.15->tensorflow) (3.2.2)\r\n",
      "Downloading tensorflow-2.15.1-cp310-cp310-manylinux_2_17_x86_64.manylinux2014_x86_64.whl (475.2 MB)\r\n",
      "\u001b[2K   \u001b[90m━━━━━━━━━━━━━━━━━━━━━━━━━━━━━━━━━━━━━━━━\u001b[0m \u001b[32m475.2/475.2 MB\u001b[0m \u001b[31m3.4 MB/s\u001b[0m eta \u001b[36m0:00:00\u001b[0m\r\n",
      "\u001b[?25hDownloading keras-2.15.0-py3-none-any.whl (1.7 MB)\r\n",
      "\u001b[2K   \u001b[90m━━━━━━━━━━━━━━━━━━━━━━━━━━━━━━━━━━━━━━━━\u001b[0m \u001b[32m1.7/1.7 MB\u001b[0m \u001b[31m58.0 MB/s\u001b[0m eta \u001b[36m0:00:00\u001b[0m\r\n",
      "\u001b[?25hDownloading ml_dtypes-0.3.2-cp310-cp310-manylinux_2_17_x86_64.manylinux2014_x86_64.whl (2.2 MB)\r\n",
      "\u001b[2K   \u001b[90m━━━━━━━━━━━━━━━━━━━━━━━━━━━━━━━━━━━━━━━━\u001b[0m \u001b[32m2.2/2.2 MB\u001b[0m \u001b[31m65.1 MB/s\u001b[0m eta \u001b[36m0:00:00\u001b[0m\r\n",
      "\u001b[?25hDownloading tensorflow_cpu-2.15.1-cp310-cp310-manylinux_2_17_x86_64.manylinux2014_x86_64.whl (207.2 MB)\r\n",
      "\u001b[2K   \u001b[90m━━━━━━━━━━━━━━━━━━━━━━━━━━━━━━━━━━━━━━━━\u001b[0m \u001b[32m207.2/207.2 MB\u001b[0m \u001b[31m7.8 MB/s\u001b[0m eta \u001b[36m0:00:00\u001b[0m\r\n",
      "\u001b[?25hDownloading onnxconverter_common-1.13.0-py2.py3-none-any.whl (83 kB)\r\n",
      "\u001b[2K   \u001b[90m━━━━━━━━━━━━━━━━━━━━━━━━━━━━━━━━━━━━━━━━\u001b[0m \u001b[32m83.8/83.8 kB\u001b[0m \u001b[31m4.3 MB/s\u001b[0m eta \u001b[36m0:00:00\u001b[0m\r\n",
      "\u001b[?25hDownloading tf2onnx-1.16.1-py3-none-any.whl (455 kB)\r\n",
      "\u001b[2K   \u001b[90m━━━━━━━━━━━━━━━━━━━━━━━━━━━━━━━━━━━━━━━━\u001b[0m \u001b[32m455.8/455.8 kB\u001b[0m \u001b[31m26.8 MB/s\u001b[0m eta \u001b[36m0:00:00\u001b[0m\r\n",
      "\u001b[?25hDownloading keras_core-0.1.7-py3-none-any.whl (950 kB)\r\n",
      "\u001b[2K   \u001b[90m━━━━━━━━━━━━━━━━━━━━━━━━━━━━━━━━━━━━━━━━\u001b[0m \u001b[32m950.8/950.8 kB\u001b[0m \u001b[31m39.8 MB/s\u001b[0m eta \u001b[36m0:00:00\u001b[0m\r\n",
      "\u001b[?25hInstalling collected packages: ml-dtypes, keras, tf2onnx, onnxconverter-common, keras-core, tensorflow-cpu, tensorflow\r\n",
      "  Attempting uninstall: ml-dtypes\r\n",
      "    Found existing installation: ml-dtypes 0.2.0\r\n",
      "    Uninstalling ml-dtypes-0.2.0:\r\n",
      "      Successfully uninstalled ml-dtypes-0.2.0\r\n",
      "  Attempting uninstall: keras\r\n",
      "    Found existing installation: keras 3.3.3\r\n",
      "    Uninstalling keras-3.3.3:\r\n",
      "      Successfully uninstalled keras-3.3.3\r\n",
      "  Attempting uninstall: tensorflow\r\n",
      "    Found existing installation: tensorflow 2.15.0\r\n",
      "    Uninstalling tensorflow-2.15.0:\r\n",
      "      Successfully uninstalled tensorflow-2.15.0\r\n",
      "\u001b[31mERROR: pip's dependency resolver does not currently take into account all the packages that are installed. This behaviour is the source of the following dependency conflicts.\r\n",
      "tensorflow-decision-forests 1.8.1 requires wurlitzer, which is not installed.\u001b[0m\u001b[31m\r\n",
      "\u001b[0mSuccessfully installed keras-2.15.0 keras-core-0.1.7 ml-dtypes-0.3.2 onnxconverter-common-1.13.0 tensorflow-2.15.1 tensorflow-cpu-2.15.1 tf2onnx-1.16.1\r\n",
      "Requirement already satisfied: nltk in /opt/conda/lib/python3.10/site-packages (3.2.4)\r\n",
      "Requirement already satisfied: six in /opt/conda/lib/python3.10/site-packages (from nltk) (1.16.0)\r\n"
     ]
    }
   ],
   "source": [
    "!pip install transformers[tf-cpu] tensorflow -U\n",
    "!pip install nltk"
   ]
  },
  {
   "cell_type": "code",
   "execution_count": 2,
   "id": "b9aab014",
   "metadata": {
    "execution": {
     "iopub.execute_input": "2024-06-07T17:16:53.995064Z",
     "iopub.status.busy": "2024-06-07T17:16:53.994700Z",
     "iopub.status.idle": "2024-06-07T17:17:06.879845Z",
     "shell.execute_reply": "2024-06-07T17:17:06.878785Z"
    },
    "papermill": {
     "duration": 12.939127,
     "end_time": "2024-06-07T17:17:06.882235",
     "exception": false,
     "start_time": "2024-06-07T17:16:53.943108",
     "status": "completed"
    },
    "tags": []
   },
   "outputs": [
    {
     "name": "stderr",
     "output_type": "stream",
     "text": [
      "2024-06-07 17:16:59.244937: E external/local_xla/xla/stream_executor/cuda/cuda_dnn.cc:9261] Unable to register cuDNN factory: Attempting to register factory for plugin cuDNN when one has already been registered\n",
      "2024-06-07 17:16:59.245000: E external/local_xla/xla/stream_executor/cuda/cuda_fft.cc:607] Unable to register cuFFT factory: Attempting to register factory for plugin cuFFT when one has already been registered\n",
      "2024-06-07 17:16:59.246423: E external/local_xla/xla/stream_executor/cuda/cuda_blas.cc:1515] Unable to register cuBLAS factory: Attempting to register factory for plugin cuBLAS when one has already been registered\n"
     ]
    }
   ],
   "source": [
    "from transformers import DistilBertTokenizer, TFDistilBertForSequenceClassification\n",
    "from sklearn.model_selection import train_test_split\n",
    "import pandas as pd\n",
    "import tensorflow as tf\n",
    "import os\n",
    "import subprocess\n",
    "import nltk\n",
    "import pickle\n",
    "import matplotlib.pyplot as plt\n",
    "from sklearn.metrics import confusion_matrix, classification_report\n",
    "import seaborn as sns\n",
    "\n",
    "\n",
    "os.environ[\"WANDB_DISABLED\"] = \"true\""
   ]
  },
  {
   "cell_type": "code",
   "execution_count": 3,
   "id": "9c48b920",
   "metadata": {
    "execution": {
     "iopub.execute_input": "2024-06-07T17:17:06.988806Z",
     "iopub.status.busy": "2024-06-07T17:17:06.988189Z",
     "iopub.status.idle": "2024-06-07T17:17:08.262092Z",
     "shell.execute_reply": "2024-06-07T17:17:08.261190Z"
    },
    "papermill": {
     "duration": 1.330386,
     "end_time": "2024-06-07T17:17:08.264224",
     "exception": false,
     "start_time": "2024-06-07T17:17:06.933838",
     "status": "completed"
    },
    "tags": []
   },
   "outputs": [
    {
     "name": "stdout",
     "output_type": "stream",
     "text": [
      "[nltk_data] Downloading package wordnet to\n",
      "[nltk_data]     /kaggle/working/nltk_data...\n",
      "Archive:  /kaggle/working/nltk_data/corpora/wordnet.zip\n",
      "   creating: /kaggle/working/nltk_data/corpora/wordnet/\n",
      "  inflating: /kaggle/working/nltk_data/corpora/wordnet/lexnames  \n",
      "  inflating: /kaggle/working/nltk_data/corpora/wordnet/data.verb  \n",
      "  inflating: /kaggle/working/nltk_data/corpora/wordnet/index.adv  \n",
      "  inflating: /kaggle/working/nltk_data/corpora/wordnet/adv.exc  \n",
      "  inflating: /kaggle/working/nltk_data/corpora/wordnet/index.verb  \n",
      "  inflating: /kaggle/working/nltk_data/corpora/wordnet/cntlist.rev  \n",
      "  inflating: /kaggle/working/nltk_data/corpora/wordnet/data.adj  \n",
      "  inflating: /kaggle/working/nltk_data/corpora/wordnet/index.adj  \n",
      "  inflating: /kaggle/working/nltk_data/corpora/wordnet/LICENSE  \n",
      "  inflating: /kaggle/working/nltk_data/corpora/wordnet/citation.bib  \n",
      "  inflating: /kaggle/working/nltk_data/corpora/wordnet/noun.exc  \n",
      "  inflating: /kaggle/working/nltk_data/corpora/wordnet/verb.exc  \n",
      "  inflating: /kaggle/working/nltk_data/corpora/wordnet/README  \n",
      "  inflating: /kaggle/working/nltk_data/corpora/wordnet/index.sense  \n",
      "  inflating: /kaggle/working/nltk_data/corpora/wordnet/data.noun  \n",
      "  inflating: /kaggle/working/nltk_data/corpora/wordnet/data.adv  \n",
      "  inflating: /kaggle/working/nltk_data/corpora/wordnet/index.noun  \n",
      "  inflating: /kaggle/working/nltk_data/corpora/wordnet/adj.exc  \n"
     ]
    }
   ],
   "source": [
    "# Set NLTK data path to /kaggle/working/nltk_data\n",
    "nltk.data.path.append(\"/kaggle/working/nltk_data\")\n",
    "\n",
    "# Download and unzip wordnet\n",
    "try:\n",
    "    nltk.data.find('corpora/wordnet.zip')\n",
    "except LookupError:\n",
    "    nltk.download('wordnet', download_dir='/kaggle/working/nltk_data')\n",
    "    command = \"unzip /kaggle/working/nltk_data/corpora/wordnet.zip -d /kaggle/working/nltk_data/corpora\"\n",
    "    subprocess.run(command.split())\n",
    "    nltk.data.path.append('/kaggle/working/nltk_data')\n",
    "\n",
    "from nltk.corpus import wordnet\n",
    "import random"
   ]
  },
  {
   "cell_type": "code",
   "execution_count": 4,
   "id": "be8203ce",
   "metadata": {
    "ExecuteTime": {
     "end_time": "2024-06-04T12:49:27.864934Z",
     "start_time": "2024-06-04T12:49:15.168949Z"
    },
    "execution": {
     "iopub.execute_input": "2024-06-07T17:17:08.366635Z",
     "iopub.status.busy": "2024-06-07T17:17:08.366252Z",
     "iopub.status.idle": "2024-06-07T17:17:08.420949Z",
     "shell.execute_reply": "2024-06-07T17:17:08.420066Z"
    },
    "papermill": {
     "duration": 0.108116,
     "end_time": "2024-06-07T17:17:08.423046",
     "exception": false,
     "start_time": "2024-06-07T17:17:08.314930",
     "status": "completed"
    },
    "tags": []
   },
   "outputs": [
    {
     "name": "stdout",
     "output_type": "stream",
     "text": [
      "Food\n",
      "Other\n",
      "Transportation\n",
      "Apparel\n",
      "Household\n",
      "Social Life\n",
      "Education\n",
      "Allowance\n",
      "Beauty\n",
      "Gift\n"
     ]
    },
    {
     "data": {
      "text/html": [
       "<div>\n",
       "<style scoped>\n",
       "    .dataframe tbody tr th:only-of-type {\n",
       "        vertical-align: middle;\n",
       "    }\n",
       "\n",
       "    .dataframe tbody tr th {\n",
       "        vertical-align: top;\n",
       "    }\n",
       "\n",
       "    .dataframe thead th {\n",
       "        text-align: right;\n",
       "    }\n",
       "</style>\n",
       "<table border=\"1\" class=\"dataframe\">\n",
       "  <thead>\n",
       "    <tr style=\"text-align: right;\">\n",
       "      <th></th>\n",
       "      <th>Date</th>\n",
       "      <th>Account</th>\n",
       "      <th>Category</th>\n",
       "      <th>Subcategory</th>\n",
       "      <th>Note</th>\n",
       "      <th>INR</th>\n",
       "      <th>Income/Expense</th>\n",
       "      <th>Note.1</th>\n",
       "      <th>Amount</th>\n",
       "      <th>Currency</th>\n",
       "      <th>Account.1</th>\n",
       "    </tr>\n",
       "  </thead>\n",
       "  <tbody>\n",
       "    <tr>\n",
       "      <th>0</th>\n",
       "      <td>3/2/2022 10:11</td>\n",
       "      <td>CUB - online payment</td>\n",
       "      <td>Food</td>\n",
       "      <td>NaN</td>\n",
       "      <td>Brownie</td>\n",
       "      <td>50.0</td>\n",
       "      <td>Expense</td>\n",
       "      <td>NaN</td>\n",
       "      <td>50.0</td>\n",
       "      <td>INR</td>\n",
       "      <td>50.0</td>\n",
       "    </tr>\n",
       "    <tr>\n",
       "      <th>1</th>\n",
       "      <td>3/2/2022 10:11</td>\n",
       "      <td>CUB - online payment</td>\n",
       "      <td>Other</td>\n",
       "      <td>NaN</td>\n",
       "      <td>To lended people</td>\n",
       "      <td>300.0</td>\n",
       "      <td>Expense</td>\n",
       "      <td>NaN</td>\n",
       "      <td>300.0</td>\n",
       "      <td>INR</td>\n",
       "      <td>300.0</td>\n",
       "    </tr>\n",
       "    <tr>\n",
       "      <th>2</th>\n",
       "      <td>3/1/2022 19:50</td>\n",
       "      <td>CUB - online payment</td>\n",
       "      <td>Food</td>\n",
       "      <td>NaN</td>\n",
       "      <td>Dinner</td>\n",
       "      <td>78.0</td>\n",
       "      <td>Expense</td>\n",
       "      <td>NaN</td>\n",
       "      <td>78.0</td>\n",
       "      <td>INR</td>\n",
       "      <td>78.0</td>\n",
       "    </tr>\n",
       "    <tr>\n",
       "      <th>3</th>\n",
       "      <td>3/1/2022 18:56</td>\n",
       "      <td>CUB - online payment</td>\n",
       "      <td>Transportation</td>\n",
       "      <td>NaN</td>\n",
       "      <td>Metro</td>\n",
       "      <td>30.0</td>\n",
       "      <td>Expense</td>\n",
       "      <td>NaN</td>\n",
       "      <td>30.0</td>\n",
       "      <td>INR</td>\n",
       "      <td>30.0</td>\n",
       "    </tr>\n",
       "    <tr>\n",
       "      <th>4</th>\n",
       "      <td>3/1/2022 18:22</td>\n",
       "      <td>CUB - online payment</td>\n",
       "      <td>Food</td>\n",
       "      <td>NaN</td>\n",
       "      <td>Snacks</td>\n",
       "      <td>67.0</td>\n",
       "      <td>Expense</td>\n",
       "      <td>NaN</td>\n",
       "      <td>67.0</td>\n",
       "      <td>INR</td>\n",
       "      <td>67.0</td>\n",
       "    </tr>\n",
       "  </tbody>\n",
       "</table>\n",
       "</div>"
      ],
      "text/plain": [
       "             Date               Account        Category  Subcategory  \\\n",
       "0  3/2/2022 10:11  CUB - online payment            Food          NaN   \n",
       "1  3/2/2022 10:11  CUB - online payment           Other          NaN   \n",
       "2  3/1/2022 19:50  CUB - online payment            Food          NaN   \n",
       "3  3/1/2022 18:56  CUB - online payment  Transportation          NaN   \n",
       "4  3/1/2022 18:22  CUB - online payment            Food          NaN   \n",
       "\n",
       "               Note    INR Income/Expense  Note.1  Amount Currency  Account.1  \n",
       "0           Brownie   50.0        Expense     NaN    50.0      INR       50.0  \n",
       "1  To lended people  300.0        Expense     NaN   300.0      INR      300.0  \n",
       "2            Dinner   78.0        Expense     NaN    78.0      INR       78.0  \n",
       "3             Metro   30.0        Expense     NaN    30.0      INR       30.0  \n",
       "4            Snacks   67.0        Expense     NaN    67.0      INR       67.0  "
      ]
     },
     "execution_count": 4,
     "metadata": {},
     "output_type": "execute_result"
    }
   ],
   "source": [
    "# Load and preprocess the data\n",
    "data = pd.read_csv('/kaggle/input/expense-data-1/expense_data_1.csv')\n",
    "data = data.dropna(subset=['Category', 'Note'])  # Drop rows with missing values in 'Category' or 'Note'\n",
    "for category in data['Category'].unique():\n",
    "    print(category)\n",
    "data.head()"
   ]
  },
  {
   "cell_type": "code",
   "execution_count": 5,
   "id": "45dafae2",
   "metadata": {
    "execution": {
     "iopub.execute_input": "2024-06-07T17:17:08.526253Z",
     "iopub.status.busy": "2024-06-07T17:17:08.525437Z",
     "iopub.status.idle": "2024-06-07T17:17:08.562108Z",
     "shell.execute_reply": "2024-06-07T17:17:08.561194Z"
    },
    "papermill": {
     "duration": 0.090495,
     "end_time": "2024-06-07T17:17:08.564324",
     "exception": false,
     "start_time": "2024-06-07T17:17:08.473829",
     "status": "completed"
    },
    "tags": []
   },
   "outputs": [
    {
     "data": {
      "text/html": [
       "<div>\n",
       "<style scoped>\n",
       "    .dataframe tbody tr th:only-of-type {\n",
       "        vertical-align: middle;\n",
       "    }\n",
       "\n",
       "    .dataframe tbody tr th {\n",
       "        vertical-align: top;\n",
       "    }\n",
       "\n",
       "    .dataframe thead th {\n",
       "        text-align: right;\n",
       "    }\n",
       "</style>\n",
       "<table border=\"1\" class=\"dataframe\">\n",
       "  <thead>\n",
       "    <tr style=\"text-align: right;\">\n",
       "      <th></th>\n",
       "      <th>Note</th>\n",
       "      <th>Category</th>\n",
       "    </tr>\n",
       "  </thead>\n",
       "  <tbody>\n",
       "    <tr>\n",
       "      <th>0</th>\n",
       "      <td>Groceries for the week</td>\n",
       "      <td>Food</td>\n",
       "    </tr>\n",
       "    <tr>\n",
       "      <th>1</th>\n",
       "      <td>Dinner with friends</td>\n",
       "      <td>Social Life</td>\n",
       "    </tr>\n",
       "    <tr>\n",
       "      <th>2</th>\n",
       "      <td>Gasoline refill</td>\n",
       "      <td>Transportation</td>\n",
       "    </tr>\n",
       "    <tr>\n",
       "      <th>3</th>\n",
       "      <td>New shoes</td>\n",
       "      <td>Apparel</td>\n",
       "    </tr>\n",
       "    <tr>\n",
       "      <th>4</th>\n",
       "      <td>Monthly rent</td>\n",
       "      <td>Household</td>\n",
       "    </tr>\n",
       "  </tbody>\n",
       "</table>\n",
       "</div>"
      ],
      "text/plain": [
       "                     Note        Category\n",
       "0  Groceries for the week            Food\n",
       "1     Dinner with friends     Social Life\n",
       "2         Gasoline refill  Transportation\n",
       "3               New shoes         Apparel\n",
       "4            Monthly rent       Household"
      ]
     },
     "execution_count": 5,
     "metadata": {},
     "output_type": "execute_result"
    }
   ],
   "source": [
    "additional_data = pd.read_csv('/kaggle/input/expense-data-2/expenses_2.csv')\n",
    "additional_data.head()\n"
   ]
  },
  {
   "cell_type": "code",
   "execution_count": 6,
   "id": "1e6b7242",
   "metadata": {
    "execution": {
     "iopub.execute_input": "2024-06-07T17:17:08.675217Z",
     "iopub.status.busy": "2024-06-07T17:17:08.674845Z",
     "iopub.status.idle": "2024-06-07T17:17:08.680434Z",
     "shell.execute_reply": "2024-06-07T17:17:08.679567Z"
    },
    "papermill": {
     "duration": 0.059641,
     "end_time": "2024-06-07T17:17:08.682461",
     "exception": false,
     "start_time": "2024-06-07T17:17:08.622820",
     "status": "completed"
    },
    "tags": []
   },
   "outputs": [
    {
     "data": {
      "text/plain": [
       "14908"
      ]
     },
     "execution_count": 6,
     "metadata": {},
     "output_type": "execute_result"
    }
   ],
   "source": [
    "len(additional_data)"
   ]
  },
  {
   "cell_type": "code",
   "execution_count": 7,
   "id": "3aa2a5f2",
   "metadata": {
    "execution": {
     "iopub.execute_input": "2024-06-07T17:17:08.801279Z",
     "iopub.status.busy": "2024-06-07T17:17:08.800662Z",
     "iopub.status.idle": "2024-06-07T17:17:08.915535Z",
     "shell.execute_reply": "2024-06-07T17:17:08.914598Z"
    },
    "papermill": {
     "duration": 0.171891,
     "end_time": "2024-06-07T17:17:08.917562",
     "exception": false,
     "start_time": "2024-06-07T17:17:08.745671",
     "status": "completed"
    },
    "tags": []
   },
   "outputs": [
    {
     "name": "stdout",
     "output_type": "stream",
     "text": [
      "Merged data shape: (15177, 11)\n",
      "Food\n",
      "Other\n",
      "Transportation\n",
      "Apparel\n",
      "Household\n",
      "Social Life\n",
      "Education\n",
      "Allowance\n",
      "Beauty\n",
      "Gift\n",
      "Pet\n",
      "Entertainment\n",
      "Health\n"
     ]
    },
    {
     "data": {
      "text/html": [
       "<div>\n",
       "<style scoped>\n",
       "    .dataframe tbody tr th:only-of-type {\n",
       "        vertical-align: middle;\n",
       "    }\n",
       "\n",
       "    .dataframe tbody tr th {\n",
       "        vertical-align: top;\n",
       "    }\n",
       "\n",
       "    .dataframe thead th {\n",
       "        text-align: right;\n",
       "    }\n",
       "</style>\n",
       "<table border=\"1\" class=\"dataframe\">\n",
       "  <thead>\n",
       "    <tr style=\"text-align: right;\">\n",
       "      <th></th>\n",
       "      <th>Date</th>\n",
       "      <th>Account</th>\n",
       "      <th>Category</th>\n",
       "      <th>Subcategory</th>\n",
       "      <th>Note</th>\n",
       "      <th>INR</th>\n",
       "      <th>Income/Expense</th>\n",
       "      <th>Note.1</th>\n",
       "      <th>Amount</th>\n",
       "      <th>Currency</th>\n",
       "      <th>Account.1</th>\n",
       "    </tr>\n",
       "  </thead>\n",
       "  <tbody>\n",
       "    <tr>\n",
       "      <th>0</th>\n",
       "      <td>3/2/2022 10:11</td>\n",
       "      <td>CUB - online payment</td>\n",
       "      <td>Food</td>\n",
       "      <td>NaN</td>\n",
       "      <td>Brownie</td>\n",
       "      <td>50.0</td>\n",
       "      <td>Expense</td>\n",
       "      <td>NaN</td>\n",
       "      <td>50.0</td>\n",
       "      <td>INR</td>\n",
       "      <td>50.0</td>\n",
       "    </tr>\n",
       "    <tr>\n",
       "      <th>1</th>\n",
       "      <td>3/2/2022 10:11</td>\n",
       "      <td>CUB - online payment</td>\n",
       "      <td>Other</td>\n",
       "      <td>NaN</td>\n",
       "      <td>To lended people</td>\n",
       "      <td>300.0</td>\n",
       "      <td>Expense</td>\n",
       "      <td>NaN</td>\n",
       "      <td>300.0</td>\n",
       "      <td>INR</td>\n",
       "      <td>300.0</td>\n",
       "    </tr>\n",
       "    <tr>\n",
       "      <th>2</th>\n",
       "      <td>3/1/2022 19:50</td>\n",
       "      <td>CUB - online payment</td>\n",
       "      <td>Food</td>\n",
       "      <td>NaN</td>\n",
       "      <td>Dinner</td>\n",
       "      <td>78.0</td>\n",
       "      <td>Expense</td>\n",
       "      <td>NaN</td>\n",
       "      <td>78.0</td>\n",
       "      <td>INR</td>\n",
       "      <td>78.0</td>\n",
       "    </tr>\n",
       "    <tr>\n",
       "      <th>3</th>\n",
       "      <td>3/1/2022 18:56</td>\n",
       "      <td>CUB - online payment</td>\n",
       "      <td>Transportation</td>\n",
       "      <td>NaN</td>\n",
       "      <td>Metro</td>\n",
       "      <td>30.0</td>\n",
       "      <td>Expense</td>\n",
       "      <td>NaN</td>\n",
       "      <td>30.0</td>\n",
       "      <td>INR</td>\n",
       "      <td>30.0</td>\n",
       "    </tr>\n",
       "    <tr>\n",
       "      <th>4</th>\n",
       "      <td>3/1/2022 18:22</td>\n",
       "      <td>CUB - online payment</td>\n",
       "      <td>Food</td>\n",
       "      <td>NaN</td>\n",
       "      <td>Snacks</td>\n",
       "      <td>67.0</td>\n",
       "      <td>Expense</td>\n",
       "      <td>NaN</td>\n",
       "      <td>67.0</td>\n",
       "      <td>INR</td>\n",
       "      <td>67.0</td>\n",
       "    </tr>\n",
       "  </tbody>\n",
       "</table>\n",
       "</div>"
      ],
      "text/plain": [
       "             Date               Account        Category  Subcategory  \\\n",
       "0  3/2/2022 10:11  CUB - online payment            Food          NaN   \n",
       "1  3/2/2022 10:11  CUB - online payment           Other          NaN   \n",
       "2  3/1/2022 19:50  CUB - online payment            Food          NaN   \n",
       "3  3/1/2022 18:56  CUB - online payment  Transportation          NaN   \n",
       "4  3/1/2022 18:22  CUB - online payment            Food          NaN   \n",
       "\n",
       "               Note    INR Income/Expense  Note.1  Amount Currency  Account.1  \n",
       "0           Brownie   50.0        Expense     NaN    50.0      INR       50.0  \n",
       "1  To lended people  300.0        Expense     NaN   300.0      INR      300.0  \n",
       "2            Dinner   78.0        Expense     NaN    78.0      INR       78.0  \n",
       "3             Metro   30.0        Expense     NaN    30.0      INR       30.0  \n",
       "4            Snacks   67.0        Expense     NaN    67.0      INR       67.0  "
      ]
     },
     "execution_count": 7,
     "metadata": {},
     "output_type": "execute_result"
    }
   ],
   "source": [
    "merged_data = pd.concat([data, additional_data[['Note', 'Category']]], ignore_index=True)\n",
    "print(f\"Merged data shape: {merged_data.shape}\")\n",
    "merged_data.to_csv('merged_expense_data.csv', index=False)\n",
    "for category in merged_data['Category'].unique():\n",
    "    print(category)\n",
    "merged_data.head()"
   ]
  },
  {
   "cell_type": "code",
   "execution_count": 8,
   "id": "177c164f",
   "metadata": {
    "execution": {
     "iopub.execute_input": "2024-06-07T17:17:09.026647Z",
     "iopub.status.busy": "2024-06-07T17:17:09.025789Z",
     "iopub.status.idle": "2024-06-07T17:17:09.044766Z",
     "shell.execute_reply": "2024-06-07T17:17:09.043723Z"
    },
    "papermill": {
     "duration": 0.075538,
     "end_time": "2024-06-07T17:17:09.046814",
     "exception": false,
     "start_time": "2024-06-07T17:17:08.971276",
     "status": "completed"
    },
    "tags": []
   },
   "outputs": [
    {
     "name": "stdout",
     "output_type": "stream",
     "text": [
      "\n",
      "Jumlah masing-masing kategori setelah di-merge:\n",
      "Category\n",
      "Other             4543\n",
      "Food              1870\n",
      "Education         1640\n",
      "Transportation    1501\n",
      "Household         1351\n",
      "Social Life       1304\n",
      "Apparel           1281\n",
      "Health             876\n",
      "Entertainment      811\n",
      "Name: count, dtype: int64\n"
     ]
    }
   ],
   "source": [
    "categories_to_replace = ['Pet', 'Allowance', 'Gift', 'Beauty']\n",
    "merged_data['Category'] = merged_data['Category'].replace(categories_to_replace, 'Other')\n",
    "\n",
    "# Print jumlah masing-masing kategori setelah di-merge\n",
    "category_counts = merged_data['Category'].value_counts()\n",
    "print(\"\\nJumlah masing-masing kategori setelah di-merge:\")\n",
    "print(category_counts)\n"
   ]
  },
  {
   "cell_type": "code",
   "execution_count": 9,
   "id": "7d510395",
   "metadata": {
    "execution": {
     "iopub.execute_input": "2024-06-07T17:17:09.203861Z",
     "iopub.status.busy": "2024-06-07T17:17:09.202975Z",
     "iopub.status.idle": "2024-06-07T17:17:09.210474Z",
     "shell.execute_reply": "2024-06-07T17:17:09.209591Z"
    },
    "papermill": {
     "duration": 0.063147,
     "end_time": "2024-06-07T17:17:09.212511",
     "exception": false,
     "start_time": "2024-06-07T17:17:09.149364",
     "status": "completed"
    },
    "tags": []
   },
   "outputs": [],
   "source": [
    "# Fungsi untuk menggantikan kata dengan sinonim\n",
    "def synonym_replacement(text):\n",
    "    words = text.split()\n",
    "    new_words = words.copy()\n",
    "    random_word_list = list(set([word for word in words if wordnet.synsets(word)]))\n",
    "    if len(random_word_list) == 0:\n",
    "        return text\n",
    "    random_word = random.choice(random_word_list)\n",
    "    synonyms = wordnet.synsets(random_word)\n",
    "    synonym_words = [lemma.name() for synonym in synonyms for lemma in synonym.lemmas() if lemma.name() != random_word]\n",
    "    if len(synonym_words) == 0:\n",
    "        return text\n",
    "    synonym_word = random.choice(synonym_words)\n",
    "    new_words = [synonym_word if word == random_word else word for word in new_words]\n",
    "    return ' '.join(new_words)"
   ]
  },
  {
   "cell_type": "code",
   "execution_count": 10,
   "id": "61eda9e3",
   "metadata": {
    "execution": {
     "iopub.execute_input": "2024-06-07T17:17:09.319731Z",
     "iopub.status.busy": "2024-06-07T17:17:09.318931Z",
     "iopub.status.idle": "2024-06-07T17:17:25.415905Z",
     "shell.execute_reply": "2024-06-07T17:17:25.414998Z"
    },
    "papermill": {
     "duration": 16.152958,
     "end_time": "2024-06-07T17:17:25.418352",
     "exception": false,
     "start_time": "2024-06-07T17:17:09.265394",
     "status": "completed"
    },
    "tags": []
   },
   "outputs": [],
   "source": [
    "# Augmentasi data untuk membuat dataset seimbang\n",
    "max_count = category_counts.max()\n",
    "augmented_data = []\n",
    "for category in category_counts.index:\n",
    "    category_data = merged_data[merged_data['Category'] == category]\n",
    "    num_augmented_samples = max_count - len(category_data)\n",
    "    for _ in range(num_augmented_samples):\n",
    "        sample = category_data.sample(1)\n",
    "        augmented_note = synonym_replacement(sample['Note'].values[0])\n",
    "        augmented_data.append({'Note': augmented_note, 'Category': category})\n",
    "\n",
    "augmented_df = pd.DataFrame(augmented_data)"
   ]
  },
  {
   "cell_type": "code",
   "execution_count": 11,
   "id": "4c548c90",
   "metadata": {
    "execution": {
     "iopub.execute_input": "2024-06-07T17:17:25.524698Z",
     "iopub.status.busy": "2024-06-07T17:17:25.523999Z",
     "iopub.status.idle": "2024-06-07T17:17:25.798033Z",
     "shell.execute_reply": "2024-06-07T17:17:25.797134Z"
    },
    "papermill": {
     "duration": 0.329696,
     "end_time": "2024-06-07T17:17:25.800764",
     "exception": false,
     "start_time": "2024-06-07T17:17:25.471068",
     "status": "completed"
    },
    "tags": []
   },
   "outputs": [],
   "source": [
    "# Gabungkan data asli dengan data yang telah di-augmentasi\n",
    "balanced_data = pd.concat([merged_data, augmented_df], ignore_index=True)\n",
    "\n",
    "# Simpan data yang telah di-balance\n",
    "balanced_data.to_csv('balanced_expense_data.csv', index=False)"
   ]
  },
  {
   "cell_type": "code",
   "execution_count": 12,
   "id": "dcf9256f",
   "metadata": {
    "execution": {
     "iopub.execute_input": "2024-06-07T17:17:25.922447Z",
     "iopub.status.busy": "2024-06-07T17:17:25.921757Z",
     "iopub.status.idle": "2024-06-07T17:17:25.928241Z",
     "shell.execute_reply": "2024-06-07T17:17:25.927283Z"
    },
    "papermill": {
     "duration": 0.068397,
     "end_time": "2024-06-07T17:17:25.930777",
     "exception": false,
     "start_time": "2024-06-07T17:17:25.862380",
     "status": "completed"
    },
    "tags": []
   },
   "outputs": [
    {
     "name": "stdout",
     "output_type": "stream",
     "text": [
      "\n",
      "Contoh data hasil augmentasi:\n",
      "                                          Note Category\n",
      "0            dinner at a new Indian restaurant     Food\n",
      "1               Freshly hale juice from a café     Food\n",
      "2  Dinner atomic_number_85 a fusion restaurant     Food\n",
      "3                     Food and wine mate event     Food\n",
      "4  Exclusive wine and deep_brown pairing night     Food\n"
     ]
    }
   ],
   "source": [
    "print(\"\\nContoh data hasil augmentasi:\")\n",
    "print(augmented_df.head())"
   ]
  },
  {
   "cell_type": "code",
   "execution_count": 13,
   "id": "d70a01b8",
   "metadata": {
    "execution": {
     "iopub.execute_input": "2024-06-07T17:17:26.036948Z",
     "iopub.status.busy": "2024-06-07T17:17:26.036591Z",
     "iopub.status.idle": "2024-06-07T17:17:26.050208Z",
     "shell.execute_reply": "2024-06-07T17:17:26.049150Z"
    },
    "papermill": {
     "duration": 0.069208,
     "end_time": "2024-06-07T17:17:26.052886",
     "exception": false,
     "start_time": "2024-06-07T17:17:25.983678",
     "status": "completed"
    },
    "tags": []
   },
   "outputs": [
    {
     "name": "stdout",
     "output_type": "stream",
     "text": [
      "\n",
      "Jumlah masing-masing kategori setelah augmentasi:\n",
      "Category\n",
      "Food              4543\n",
      "Other             4543\n",
      "Transportation    4543\n",
      "Apparel           4543\n",
      "Household         4543\n",
      "Social Life       4543\n",
      "Education         4543\n",
      "Entertainment     4543\n",
      "Health            4543\n",
      "Name: count, dtype: int64\n"
     ]
    }
   ],
   "source": [
    "# Print jumlah masing-masing kategori setelah di-merge\n",
    "balanced_category_counts = balanced_data['Category'].value_counts()\n",
    "print(\"\\nJumlah masing-masing kategori setelah augmentasi:\")\n",
    "print(balanced_category_counts)"
   ]
  },
  {
   "cell_type": "code",
   "execution_count": 14,
   "id": "53db1172",
   "metadata": {
    "ExecuteTime": {
     "end_time": "2024-06-04T12:49:30.670017Z",
     "start_time": "2024-06-04T12:49:30.652346Z"
    },
    "execution": {
     "iopub.execute_input": "2024-06-07T17:17:26.176622Z",
     "iopub.status.busy": "2024-06-07T17:17:26.176244Z",
     "iopub.status.idle": "2024-06-07T17:17:26.191307Z",
     "shell.execute_reply": "2024-06-07T17:17:26.190506Z"
    },
    "papermill": {
     "duration": 0.078831,
     "end_time": "2024-06-07T17:17:26.193615",
     "exception": false,
     "start_time": "2024-06-07T17:17:26.114784",
     "status": "completed"
    },
    "tags": []
   },
   "outputs": [],
   "source": [
    "# Encode the labels\n",
    "category_to_id = {category: idx for idx, category in enumerate(balanced_data['Category'].unique())}\n",
    "id_to_category = {idx: category for category, idx in category_to_id.items()}\n",
    "balanced_data['label'] = balanced_data['Category'].map(category_to_id)"
   ]
  },
  {
   "cell_type": "code",
   "execution_count": 15,
   "id": "72b239ea",
   "metadata": {
    "execution": {
     "iopub.execute_input": "2024-06-07T17:17:26.299615Z",
     "iopub.status.busy": "2024-06-07T17:17:26.298974Z",
     "iopub.status.idle": "2024-06-07T17:17:26.305140Z",
     "shell.execute_reply": "2024-06-07T17:17:26.304294Z"
    },
    "papermill": {
     "duration": 0.059966,
     "end_time": "2024-06-07T17:17:26.307022",
     "exception": false,
     "start_time": "2024-06-07T17:17:26.247056",
     "status": "completed"
    },
    "tags": []
   },
   "outputs": [],
   "source": [
    "# Save category encodings\n",
    "with open('category_to_id.pkl', 'wb') as f:\n",
    "    pickle.dump(category_to_id, f)\n",
    "\n",
    "with open('id_to_category.pkl', 'wb') as f:\n",
    "    pickle.dump(id_to_category, f)\n",
    "\n",
    "# Load category encodings\n",
    "with open('category_to_id.pkl', 'rb') as f:\n",
    "    category_to_id = pickle.load(f)\n",
    "\n",
    "with open('id_to_category.pkl', 'rb') as f:\n",
    "    id_to_category = pickle.load(f)"
   ]
  },
  {
   "cell_type": "code",
   "execution_count": 16,
   "id": "fa658e07",
   "metadata": {
    "ExecuteTime": {
     "end_time": "2024-06-04T12:49:45.513222Z",
     "start_time": "2024-06-04T12:49:45.495099Z"
    },
    "execution": {
     "iopub.execute_input": "2024-06-07T17:17:26.424188Z",
     "iopub.status.busy": "2024-06-07T17:17:26.423817Z",
     "iopub.status.idle": "2024-06-07T17:17:26.441526Z",
     "shell.execute_reply": "2024-06-07T17:17:26.439950Z"
    },
    "papermill": {
     "duration": 0.082026,
     "end_time": "2024-06-07T17:17:26.444695",
     "exception": false,
     "start_time": "2024-06-07T17:17:26.362669",
     "status": "completed"
    },
    "tags": []
   },
   "outputs": [
    {
     "data": {
      "text/plain": [
       "((32709,), (8178,), (32709,), (8178,))"
      ]
     },
     "execution_count": 16,
     "metadata": {},
     "output_type": "execute_result"
    }
   ],
   "source": [
    "# Split the data\n",
    "train_texts, val_texts, train_labels, val_labels = train_test_split(balanced_data['Note'], balanced_data['label'], test_size=0.2, random_state=42)\n",
    "\n",
    "train_texts.shape, val_texts.shape, train_labels.shape, val_labels.shape"
   ]
  },
  {
   "cell_type": "code",
   "execution_count": 17,
   "id": "4e6f0e44",
   "metadata": {
    "execution": {
     "iopub.execute_input": "2024-06-07T17:17:26.594083Z",
     "iopub.status.busy": "2024-06-07T17:17:26.593257Z",
     "iopub.status.idle": "2024-06-07T17:17:26.601402Z",
     "shell.execute_reply": "2024-06-07T17:17:26.600310Z"
    },
    "papermill": {
     "duration": 0.075058,
     "end_time": "2024-06-07T17:17:26.603454",
     "exception": false,
     "start_time": "2024-06-07T17:17:26.528396",
     "status": "completed"
    },
    "tags": []
   },
   "outputs": [
    {
     "data": {
      "text/plain": [
       "37927                     Netflix monthly membership\n",
       "18725    Attending a scold series on ancient history\n",
       "11484               Knitting crafts at a local store\n",
       "2680                           Neutrogena face cream\n",
       "19959                                school supplies\n",
       "Name: Note, dtype: object"
      ]
     },
     "execution_count": 17,
     "metadata": {},
     "output_type": "execute_result"
    }
   ],
   "source": [
    "train_texts.head()"
   ]
  },
  {
   "cell_type": "code",
   "execution_count": 18,
   "id": "eb56b26f",
   "metadata": {
    "execution": {
     "iopub.execute_input": "2024-06-07T17:17:26.719006Z",
     "iopub.status.busy": "2024-06-07T17:17:26.718090Z",
     "iopub.status.idle": "2024-06-07T17:17:26.726112Z",
     "shell.execute_reply": "2024-06-07T17:17:26.725093Z"
    },
    "papermill": {
     "duration": 0.068452,
     "end_time": "2024-06-07T17:17:26.728097",
     "exception": false,
     "start_time": "2024-06-07T17:17:26.659645",
     "status": "completed"
    },
    "tags": []
   },
   "outputs": [
    {
     "data": {
      "text/plain": [
       "37927    7\n",
       "18725    6\n",
       "11484    6\n",
       "2680     1\n",
       "19959    6\n",
       "Name: label, dtype: int64"
      ]
     },
     "execution_count": 18,
     "metadata": {},
     "output_type": "execute_result"
    }
   ],
   "source": [
    "train_labels.head()"
   ]
  },
  {
   "cell_type": "code",
   "execution_count": 19,
   "id": "62766477",
   "metadata": {
    "ExecuteTime": {
     "end_time": "2024-06-04T12:49:53.395592Z",
     "start_time": "2024-06-04T12:49:47.391052Z"
    },
    "execution": {
     "iopub.execute_input": "2024-06-07T17:17:26.838024Z",
     "iopub.status.busy": "2024-06-07T17:17:26.837130Z",
     "iopub.status.idle": "2024-06-07T17:17:39.494703Z",
     "shell.execute_reply": "2024-06-07T17:17:39.493716Z"
    },
    "papermill": {
     "duration": 12.715196,
     "end_time": "2024-06-07T17:17:39.497304",
     "exception": false,
     "start_time": "2024-06-07T17:17:26.782108",
     "status": "completed"
    },
    "tags": []
   },
   "outputs": [
    {
     "data": {
      "application/vnd.jupyter.widget-view+json": {
       "model_id": "ce7f5808651046bea48cd107bc262467",
       "version_major": 2,
       "version_minor": 0
      },
      "text/plain": [
       "tokenizer_config.json:   0%|          | 0.00/49.0 [00:00<?, ?B/s]"
      ]
     },
     "metadata": {},
     "output_type": "display_data"
    },
    {
     "data": {
      "application/vnd.jupyter.widget-view+json": {
       "model_id": "41bdafd13ba544b79ba171be6d4ee73a",
       "version_major": 2,
       "version_minor": 0
      },
      "text/plain": [
       "vocab.txt:   0%|          | 0.00/213k [00:00<?, ?B/s]"
      ]
     },
     "metadata": {},
     "output_type": "display_data"
    },
    {
     "data": {
      "application/vnd.jupyter.widget-view+json": {
       "model_id": "fa1647ef12a343ca8d82543cff9b9574",
       "version_major": 2,
       "version_minor": 0
      },
      "text/plain": [
       "tokenizer.json:   0%|          | 0.00/436k [00:00<?, ?B/s]"
      ]
     },
     "metadata": {},
     "output_type": "display_data"
    },
    {
     "name": "stderr",
     "output_type": "stream",
     "text": [
      "/opt/conda/lib/python3.10/site-packages/huggingface_hub/file_download.py:1132: FutureWarning: `resume_download` is deprecated and will be removed in version 1.0.0. Downloads always resume when possible. If you want to force a new download, use `force_download=True`.\n",
      "  warnings.warn(\n"
     ]
    },
    {
     "data": {
      "application/vnd.jupyter.widget-view+json": {
       "model_id": "46339dd4559a420cb711c28942ffe103",
       "version_major": 2,
       "version_minor": 0
      },
      "text/plain": [
       "config.json:   0%|          | 0.00/465 [00:00<?, ?B/s]"
      ]
     },
     "metadata": {},
     "output_type": "display_data"
    }
   ],
   "source": [
    "# Tokenize the texts\n",
    "tokenizer = DistilBertTokenizer.from_pretrained('distilbert-base-cased')\n",
    "train_encodings = tokenizer(train_texts.tolist(), truncation=True, padding=True)\n",
    "val_encodings = tokenizer(val_texts.tolist(), truncation=True, padding=True)"
   ]
  },
  {
   "cell_type": "code",
   "execution_count": 20,
   "id": "87e32e74",
   "metadata": {
    "execution": {
     "iopub.execute_input": "2024-06-07T17:17:39.605928Z",
     "iopub.status.busy": "2024-06-07T17:17:39.605330Z",
     "iopub.status.idle": "2024-06-07T17:17:39.858841Z",
     "shell.execute_reply": "2024-06-07T17:17:39.857877Z"
    },
    "papermill": {
     "duration": 0.309593,
     "end_time": "2024-06-07T17:17:39.861163",
     "exception": false,
     "start_time": "2024-06-07T17:17:39.551570",
     "status": "completed"
    },
    "tags": []
   },
   "outputs": [],
   "source": [
    "# Save encodings\n",
    "with open('train_encodings.pkl', 'wb') as f:\n",
    "    pickle.dump(train_encodings, f)\n",
    "\n",
    "with open('val_encodings.pkl', 'wb') as f:\n",
    "    pickle.dump(val_encodings, f)\n",
    "\n",
    "# Load encodings\n",
    "with open('train_encodings.pkl', 'rb') as f:\n",
    "    train_encodings = pickle.load(f)\n",
    "\n",
    "with open('val_encodings.pkl', 'rb') as f:\n",
    "    val_encodings = pickle.load(f)"
   ]
  },
  {
   "cell_type": "code",
   "execution_count": 21,
   "id": "f9cc9c3b",
   "metadata": {
    "ExecuteTime": {
     "end_time": "2024-06-04T12:50:04.936368Z",
     "start_time": "2024-06-04T12:50:04.922415Z"
    },
    "execution": {
     "iopub.execute_input": "2024-06-07T17:17:39.969256Z",
     "iopub.status.busy": "2024-06-07T17:17:39.968594Z",
     "iopub.status.idle": "2024-06-07T17:17:48.706189Z",
     "shell.execute_reply": "2024-06-07T17:17:48.704846Z"
    },
    "papermill": {
     "duration": 8.794208,
     "end_time": "2024-06-07T17:17:48.708622",
     "exception": false,
     "start_time": "2024-06-07T17:17:39.914414",
     "status": "completed"
    },
    "tags": []
   },
   "outputs": [],
   "source": [
    "# Create TensorFlow datasets\n",
    "train_dataset = tf.data.Dataset.from_tensor_slices((dict(train_encodings), train_labels)).shuffle(len(train_labels)).batch(16)\n",
    "val_dataset = tf.data.Dataset.from_tensor_slices((dict(val_encodings), val_labels)).batch(16)"
   ]
  },
  {
   "cell_type": "code",
   "execution_count": 22,
   "id": "7fbe0944",
   "metadata": {
    "execution": {
     "iopub.execute_input": "2024-06-07T17:17:48.830770Z",
     "iopub.status.busy": "2024-06-07T17:17:48.830436Z",
     "iopub.status.idle": "2024-06-07T17:17:48.840781Z",
     "shell.execute_reply": "2024-06-07T17:17:48.840049Z"
    },
    "papermill": {
     "duration": 0.066822,
     "end_time": "2024-06-07T17:17:48.842741",
     "exception": false,
     "start_time": "2024-06-07T17:17:48.775919",
     "status": "completed"
    },
    "tags": []
   },
   "outputs": [],
   "source": [
    "# Check if TPU is available\n",
    "try:\n",
    "    tpu = tf.distribute.cluster_resolver.TPUClusterResolver()\n",
    "    print('Running on TPU ', tpu.cluster_spec().as_dict()['worker'])\n",
    "    tf.config.experimental_connect_to_cluster(tpu)\n",
    "    tf.tpu.experimental.initialize_tpu_system(tpu)\n",
    "    strategy = tf.distribute.TPUStrategy(tpu)\n",
    "except ValueError:\n",
    "    strategy = tf.distribute.MirroredStrategy() if tf.config.list_physical_devices('GPU') else tf.distribute.OneDeviceStrategy(device=\"/cpu:0\")\n"
   ]
  },
  {
   "cell_type": "code",
   "execution_count": 23,
   "id": "ea00280a",
   "metadata": {
    "ExecuteTime": {
     "end_time": "2024-06-04T12:56:01.450114Z",
     "start_time": "2024-06-04T12:56:01.298616Z"
    },
    "execution": {
     "iopub.execute_input": "2024-06-07T17:17:48.949828Z",
     "iopub.status.busy": "2024-06-07T17:17:48.949544Z",
     "iopub.status.idle": "2024-06-07T17:18:04.349502Z",
     "shell.execute_reply": "2024-06-07T17:18:04.348628Z"
    },
    "papermill": {
     "duration": 15.455757,
     "end_time": "2024-06-07T17:18:04.351758",
     "exception": false,
     "start_time": "2024-06-07T17:17:48.896001",
     "status": "completed"
    },
    "tags": []
   },
   "outputs": [
    {
     "data": {
      "application/vnd.jupyter.widget-view+json": {
       "model_id": "fe765593847f420aa693c37087a52984",
       "version_major": 2,
       "version_minor": 0
      },
      "text/plain": [
       "model.safetensors:   0%|          | 0.00/263M [00:00<?, ?B/s]"
      ]
     },
     "metadata": {},
     "output_type": "display_data"
    },
    {
     "name": "stderr",
     "output_type": "stream",
     "text": [
      "Some weights of the PyTorch model were not used when initializing the TF 2.0 model TFDistilBertForSequenceClassification: ['vocab_transform.weight', 'vocab_layer_norm.weight', 'vocab_projector.bias', 'vocab_layer_norm.bias', 'vocab_transform.bias']\n",
      "- This IS expected if you are initializing TFDistilBertForSequenceClassification from a PyTorch model trained on another task or with another architecture (e.g. initializing a TFBertForSequenceClassification model from a BertForPreTraining model).\n",
      "- This IS NOT expected if you are initializing TFDistilBertForSequenceClassification from a PyTorch model that you expect to be exactly identical (e.g. initializing a TFBertForSequenceClassification model from a BertForSequenceClassification model).\n",
      "Some weights or buffers of the TF 2.0 model TFDistilBertForSequenceClassification were not initialized from the PyTorch model and are newly initialized: ['pre_classifier.weight', 'pre_classifier.bias', 'classifier.weight', 'classifier.bias']\n",
      "You should probably TRAIN this model on a down-stream task to be able to use it for predictions and inference.\n"
     ]
    }
   ],
   "source": [
    "with strategy.scope():\n",
    "    # Load the model\n",
    "    model = TFDistilBertForSequenceClassification.from_pretrained('distilbert-base-cased', num_labels=len(category_to_id))\n",
    "\n",
    "    # Compile the model\n",
    "    model.compile(\n",
    "        optimizer=tf.keras.optimizers.Adam(learning_rate=5e-5),\n",
    "        loss=tf.keras.losses.SparseCategoricalCrossentropy(from_logits=True),\n",
    "        metrics=[tf.keras.metrics.SparseCategoricalAccuracy()]\n",
    "    )"
   ]
  },
  {
   "cell_type": "code",
   "execution_count": 24,
   "id": "4dfd2de5",
   "metadata": {
    "execution": {
     "iopub.execute_input": "2024-06-07T17:18:04.465413Z",
     "iopub.status.busy": "2024-06-07T17:18:04.465031Z",
     "iopub.status.idle": "2024-06-07T17:45:39.955156Z",
     "shell.execute_reply": "2024-06-07T17:45:39.954282Z"
    },
    "papermill": {
     "duration": 1655.547849,
     "end_time": "2024-06-07T17:45:39.957288",
     "exception": false,
     "start_time": "2024-06-07T17:18:04.409439",
     "status": "completed"
    },
    "tags": []
   },
   "outputs": [
    {
     "name": "stdout",
     "output_type": "stream",
     "text": [
      "Epoch 1/200\n",
      "WARNING: AutoGraph could not transform <function infer_framework at 0x798b99ee27a0> and will run it as-is.\n",
      "Cause: for/else statement not yet supported\n",
      "To silence this warning, decorate the function with @tf.autograph.experimental.do_not_convert\n"
     ]
    },
    {
     "name": "stderr",
     "output_type": "stream",
     "text": [
      "WARNING: All log messages before absl::InitializeLog() is called are written to STDERR\n",
      "I0000 00:00:1717780732.059771      87 device_compiler.h:186] Compiled cluster using XLA!  This line is logged at most once for the lifetime of the process.\n"
     ]
    },
    {
     "name": "stdout",
     "output_type": "stream",
     "text": [
      "2045/2045 [==============================] - 220s 81ms/step - loss: 0.1926 - sparse_categorical_accuracy: 0.9454 - val_loss: 0.0831 - val_sparse_categorical_accuracy: 0.9727\n",
      "Epoch 2/200\n",
      "2045/2045 [==============================] - 154s 75ms/step - loss: 0.0610 - sparse_categorical_accuracy: 0.9826 - val_loss: 0.0725 - val_sparse_categorical_accuracy: 0.9823\n",
      "Epoch 3/200\n",
      "2045/2045 [==============================] - 153s 75ms/step - loss: 0.0431 - sparse_categorical_accuracy: 0.9873 - val_loss: 0.0616 - val_sparse_categorical_accuracy: 0.9846\n",
      "Epoch 4/200\n",
      "2045/2045 [==============================] - 120s 59ms/step - loss: 0.0381 - sparse_categorical_accuracy: 0.9892 - val_loss: 0.0675 - val_sparse_categorical_accuracy: 0.9815\n",
      "Epoch 5/200\n",
      "2045/2045 [==============================] - 154s 75ms/step - loss: 0.0280 - sparse_categorical_accuracy: 0.9910 - val_loss: 0.0511 - val_sparse_categorical_accuracy: 0.9873\n",
      "Epoch 6/200\n",
      "2045/2045 [==============================] - 121s 59ms/step - loss: 0.0265 - sparse_categorical_accuracy: 0.9920 - val_loss: 0.0606 - val_sparse_categorical_accuracy: 0.9858\n",
      "Epoch 7/200\n",
      "2045/2045 [==============================] - 120s 59ms/step - loss: 0.0293 - sparse_categorical_accuracy: 0.9914 - val_loss: 0.0663 - val_sparse_categorical_accuracy: 0.9840\n",
      "Epoch 8/200\n",
      "2045/2045 [==============================] - 124s 60ms/step - loss: 0.0244 - sparse_categorical_accuracy: 0.9930 - val_loss: 0.0654 - val_sparse_categorical_accuracy: 0.9840\n",
      "Epoch 9/200\n",
      "2045/2045 [==============================] - 122s 60ms/step - loss: 0.0226 - sparse_categorical_accuracy: 0.9929 - val_loss: 0.0807 - val_sparse_categorical_accuracy: 0.9812\n",
      "Epoch 10/200\n",
      "2045/2045 [==============================] - 122s 60ms/step - loss: 0.0217 - sparse_categorical_accuracy: 0.9934 - val_loss: 0.0633 - val_sparse_categorical_accuracy: 0.9859\n",
      "Epoch 11/200\n",
      "2045/2045 [==============================] - 122s 60ms/step - loss: 0.0211 - sparse_categorical_accuracy: 0.9941 - val_loss: 0.0709 - val_sparse_categorical_accuracy: 0.9864\n",
      "Epoch 12/200\n",
      "2045/2045 [==============================] - 123s 60ms/step - loss: 0.0202 - sparse_categorical_accuracy: 0.9941 - val_loss: 0.0595 - val_sparse_categorical_accuracy: 0.9859\n"
     ]
    }
   ],
   "source": [
    "# Train the model\n",
    "history = model.fit(train_dataset, validation_data=val_dataset, epochs=200, callbacks=[\n",
    "    tf.keras.callbacks.EarlyStopping(monitor='val_loss', patience=7, restore_best_weights=True),\n",
    "    tf.keras.callbacks.ModelCheckpoint(filepath='./results/best_model', save_best_only=True, monitor='val_loss')\n",
    "])"
   ]
  },
  {
   "cell_type": "code",
   "execution_count": 25,
   "id": "bdf30eb5",
   "metadata": {
    "execution": {
     "iopub.execute_input": "2024-06-07T17:45:44.243297Z",
     "iopub.status.busy": "2024-06-07T17:45:44.242502Z",
     "iopub.status.idle": "2024-06-07T17:45:57.572238Z",
     "shell.execute_reply": "2024-06-07T17:45:57.571266Z"
    },
    "papermill": {
     "duration": 15.499149,
     "end_time": "2024-06-07T17:45:57.574371",
     "exception": false,
     "start_time": "2024-06-07T17:45:42.075222",
     "status": "completed"
    },
    "tags": []
   },
   "outputs": [
    {
     "name": "stdout",
     "output_type": "stream",
     "text": [
      "512/512 [==============================] - 13s 26ms/step - loss: 0.0511 - sparse_categorical_accuracy: 0.9873\n",
      "Evaluation results: [0.05109556391835213, 0.987282931804657]\n"
     ]
    }
   ],
   "source": [
    "# Evaluate the model\n",
    "eval_results = model.evaluate(val_dataset)\n",
    "print(f\"Evaluation results: {eval_results}\")"
   ]
  },
  {
   "cell_type": "code",
   "execution_count": 26,
   "id": "c1304cff",
   "metadata": {
    "execution": {
     "iopub.execute_input": "2024-06-07T17:46:01.940864Z",
     "iopub.status.busy": "2024-06-07T17:46:01.939972Z",
     "iopub.status.idle": "2024-06-07T17:46:19.049019Z",
     "shell.execute_reply": "2024-06-07T17:46:19.048189Z"
    },
    "papermill": {
     "duration": 19.293525,
     "end_time": "2024-06-07T17:46:19.051461",
     "exception": false,
     "start_time": "2024-06-07T17:45:59.757936",
     "status": "completed"
    },
    "tags": []
   },
   "outputs": [
    {
     "name": "stdout",
     "output_type": "stream",
     "text": [
      "512/512 [==============================] - 17s 24ms/step\n"
     ]
    }
   ],
   "source": [
    "# Generate predictions for the validation set\n",
    "val_predictions = model.predict(val_dataset)\n",
    "val_pred_labels = tf.argmax(val_predictions.logits, axis=1).numpy()"
   ]
  },
  {
   "cell_type": "code",
   "execution_count": 27,
   "id": "c97c4d27",
   "metadata": {
    "execution": {
     "iopub.execute_input": "2024-06-07T17:46:23.368927Z",
     "iopub.status.busy": "2024-06-07T17:46:23.368279Z",
     "iopub.status.idle": "2024-06-07T17:46:23.391463Z",
     "shell.execute_reply": "2024-06-07T17:46:23.390261Z"
    },
    "papermill": {
     "duration": 2.28339,
     "end_time": "2024-06-07T17:46:23.394042",
     "exception": false,
     "start_time": "2024-06-07T17:46:21.110652",
     "status": "completed"
    },
    "tags": []
   },
   "outputs": [
    {
     "name": "stdout",
     "output_type": "stream",
     "text": [
      "\n",
      "Classification Report:\n",
      "                precision    recall  f1-score   support\n",
      "\n",
      "          Food       0.98      0.97      0.98       869\n",
      "         Other       0.98      0.98      0.98       981\n",
      "Transportation       1.00      1.00      1.00       896\n",
      "       Apparel       0.99      1.00      1.00       936\n",
      "     Household       0.99      0.99      0.99       922\n",
      "   Social Life       0.98      0.98      0.98       857\n",
      "     Education       0.98      0.98      0.98       902\n",
      " Entertainment       1.00      1.00      1.00       892\n",
      "        Health       0.98      0.99      0.99       923\n",
      "\n",
      "      accuracy                           0.99      8178\n",
      "     macro avg       0.99      0.99      0.99      8178\n",
      "  weighted avg       0.99      0.99      0.99      8178\n",
      "\n"
     ]
    }
   ],
   "source": [
    "# Calculate the confusion matrix\n",
    "conf_matrix = confusion_matrix(val_labels, val_pred_labels)\n",
    "\n",
    "# Print classification report\n",
    "print(\"\\nClassification Report:\")\n",
    "print(classification_report(val_labels, val_pred_labels, target_names=[id_to_category[idx] for idx in range(len(category_to_id))]))"
   ]
  },
  {
   "cell_type": "code",
   "execution_count": 28,
   "id": "22ac5352",
   "metadata": {
    "execution": {
     "iopub.execute_input": "2024-06-07T17:46:27.720441Z",
     "iopub.status.busy": "2024-06-07T17:46:27.719784Z",
     "iopub.status.idle": "2024-06-07T17:46:28.307225Z",
     "shell.execute_reply": "2024-06-07T17:46:28.306279Z"
    },
    "papermill": {
     "duration": 2.818852,
     "end_time": "2024-06-07T17:46:28.309623",
     "exception": false,
     "start_time": "2024-06-07T17:46:25.490771",
     "status": "completed"
    },
    "tags": []
   },
   "outputs": [
    {
     "data": {
      "image/png": "[encoded data removed]",
      "text/plain": [
       "<Figure size 1200x1000 with 2 Axes>"
      ]
     },
     "metadata": {},
     "output_type": "display_data"
    }
   ],
   "source": [
    "# Plotting confusion matrix\n",
    "plt.figure(figsize=(12, 10))\n",
    "sns.heatmap(conf_matrix, annot=True, fmt='d', cmap='Blues', xticklabels=[id_to_category[idx] for idx in range(len(category_to_id))], yticklabels=[id_to_category[idx] for idx in range(len(category_to_id))])\n",
    "plt.ylabel('Actual')\n",
    "plt.xlabel('Predicted')\n",
    "plt.title('Confusion Matrix')\n",
    "plt.show()"
   ]
  },
  {
   "cell_type": "code",
   "execution_count": 29,
   "id": "f2f3eefa",
   "metadata": {
    "execution": {
     "iopub.execute_input": "2024-06-07T17:46:32.542181Z",
     "iopub.status.busy": "2024-06-07T17:46:32.541773Z",
     "iopub.status.idle": "2024-06-07T17:46:33.044884Z",
     "shell.execute_reply": "2024-06-07T17:46:33.043926Z"
    },
    "papermill": {
     "duration": 2.641263,
     "end_time": "2024-06-07T17:46:33.047337",
     "exception": false,
     "start_time": "2024-06-07T17:46:30.406074",
     "status": "completed"
    },
    "tags": []
   },
   "outputs": [
    {
     "data": {
      "image/png": "[encoded data removed]",
      "text/plain": [
       "<Figure size 1200x400 with 2 Axes>"
      ]
     },
     "metadata": {},
     "output_type": "display_data"
    }
   ],
   "source": [
    "# Plotting training and validation loss and accuracy\n",
    "plt.figure(figsize=(12, 4))\n",
    "\n",
    "# Plot loss\n",
    "plt.subplot(1, 2, 1)\n",
    "plt.plot(history.history['loss'], label='Training Loss')\n",
    "plt.plot(history.history['val_loss'], label='Validation Loss')\n",
    "plt.title('Loss Over Epochs')\n",
    "plt.xlabel('Epoch')\n",
    "plt.ylabel('Loss')\n",
    "plt.legend()\n",
    "\n",
    "# Plot accuracy\n",
    "plt.subplot(1, 2, 2)\n",
    "plt.plot(history.history['sparse_categorical_accuracy'], label='Training Accuracy')\n",
    "plt.plot(history.history['val_sparse_categorical_accuracy'], label='Validation Accuracy')\n",
    "plt.title('Accuracy Over Epochs')\n",
    "plt.xlabel('Epoch')\n",
    "plt.ylabel('Accuracy')\n",
    "plt.legend()\n",
    "\n",
    "plt.show()"
   ]
  },
  {
   "cell_type": "code",
   "execution_count": 30,
   "id": "c8aa8513",
   "metadata": {
    "execution": {
     "iopub.execute_input": "2024-06-07T17:46:37.416097Z",
     "iopub.status.busy": "2024-06-07T17:46:37.415732Z",
     "iopub.status.idle": "2024-06-07T17:46:38.163390Z",
     "shell.execute_reply": "2024-06-07T17:46:38.162406Z"
    },
    "papermill": {
     "duration": 2.961219,
     "end_time": "2024-06-07T17:46:38.165452",
     "exception": false,
     "start_time": "2024-06-07T17:46:35.204233",
     "status": "completed"
    },
    "tags": []
   },
   "outputs": [
    {
     "data": {
      "text/plain": [
       "('./saved_model/tokenizer_config.json',\n",
       " './saved_model/special_tokens_map.json',\n",
       " './saved_model/vocab.txt',\n",
       " './saved_model/added_tokens.json')"
      ]
     },
     "execution_count": 30,
     "metadata": {},
     "output_type": "execute_result"
    }
   ],
   "source": [
    "# Save the model and tokenizer\n",
    "model.save_pretrained('./saved_model')\n",
    "tokenizer.save_pretrained('./saved_model')"
   ]
  },
  {
   "cell_type": "code",
   "execution_count": 31,
   "id": "be76484f",
   "metadata": {
    "execution": {
     "iopub.execute_input": "2024-06-07T17:46:42.383047Z",
     "iopub.status.busy": "2024-06-07T17:46:42.382683Z",
     "iopub.status.idle": "2024-06-07T17:46:42.388256Z",
     "shell.execute_reply": "2024-06-07T17:46:42.387404Z"
    },
    "papermill": {
     "duration": 2.141024,
     "end_time": "2024-06-07T17:46:42.390066",
     "exception": false,
     "start_time": "2024-06-07T17:46:40.249042",
     "status": "completed"
    },
    "tags": []
   },
   "outputs": [],
   "source": [
    "# Prediction function\n",
    "def predict(texts):\n",
    "    encodings = tokenizer(texts, truncation=True, padding=True, return_tensors='tf')\n",
    "    outputs = model(encodings)\n",
    "    logits = outputs.logits\n",
    "    predictions = tf.argmax(logits, axis=-1)\n",
    "    return [id_to_category[pred.numpy()] for pred in predictions]"
   ]
  },
  {
   "cell_type": "code",
   "execution_count": 32,
   "id": "c8085326",
   "metadata": {
    "execution": {
     "iopub.execute_input": "2024-06-07T17:46:46.625111Z",
     "iopub.status.busy": "2024-06-07T17:46:46.624743Z",
     "iopub.status.idle": "2024-06-07T17:46:46.772191Z",
     "shell.execute_reply": "2024-06-07T17:46:46.771157Z"
    },
    "papermill": {
     "duration": 2.28455,
     "end_time": "2024-06-07T17:46:46.774086",
     "exception": false,
     "start_time": "2024-06-07T17:46:44.489536",
     "status": "completed"
    },
    "tags": []
   },
   "outputs": [
    {
     "name": "stdout",
     "output_type": "stream",
     "text": [
      "['Food', 'Other', 'Transportation', 'Food', 'Food']\n"
     ]
    }
   ],
   "source": [
    "# Example usage of prediction\n",
    "new_texts = [\"Dinner at a restaurant\", \"Monthly salary\", \"Car\", \"HighSchool\", \"McDonalds\"]\n",
    "predictions = predict(new_texts)\n",
    "print(predictions)"
   ]
  }
 ],
 "metadata": {
  "kaggle": {
   "accelerator": "gpu",
   "dataSources": [
    {
     "datasetId": 5154777,
     "sourceId": 8613098,
     "sourceType": "datasetVersion"
    },
    {
     "datasetId": 5154781,
     "sourceId": 8613102,
     "sourceType": "datasetVersion"
    }
   ],
   "dockerImageVersionId": 30733,
   "isGpuEnabled": true,
   "isInternetEnabled": true,
   "language": "python",
   "sourceType": "notebook"
  },
  "kernelspec": {
   "display_name": "Python 3",
   "language": "python",
   "name": "python3"
  },
  "language_info": {
   "codemirror_mode": {
    "name": "ipython",
    "version": 3
   },
   "file_extension": ".py",
   "mimetype": "text/x-python",
   "name": "python",
   "nbconvert_exporter": "python",
   "pygments_lexer": "ipython3",
   "version": "3.10.13"
  },
  "papermill": {
   "default_parameters": {},
   "duration": 1891.521042,
   "end_time": "2024-06-07T17:46:51.926352",
   "environment_variables": {},
   "exception": null,
   "input_path": "__notebook__.ipynb",
   "output_path": "__notebook__.ipynb",
   "parameters": {},
   "start_time": "2024-06-07T17:15:20.405310",
   "version": "2.5.0"
  },
  "widgets": {
   "application/vnd.jupyter.widget-state+json": {
    "state": {
     "08141d6fb08545358d6e9e562e2d8f8d": {
      "model_module": "@jupyter-widgets/controls",
      "model_module_version": "1.5.0",
      "model_name": "DescriptionStyleModel",
      "state": {
       "_model_module": "@jupyter-widgets/controls",
       "_model_module_version": "1.5.0",
       "_model_name": "DescriptionStyleModel",
       "_view_count": null,
       "_view_module": "@jupyter-widgets/base",
       "_view_module_version": "1.2.0",
       "_view_name": "StyleView",
       "description_width": ""
      }
     },
     "15cb012f96c142d099babc5a7b23dbd1": {
      "model_module": "@jupyter-widgets/controls",
      "model_module_version": "1.5.0",
      "model_name": "DescriptionStyleModel",
      "state": {
       "_model_module": "@jupyter-widgets/controls",
       "_model_module_version": "1.5.0",
       "_model_name": "DescriptionStyleModel",
       "_view_count": null,
       "_view_module": "@jupyter-widgets/base",
       "_view_module_version": "1.2.0",
       "_view_name": "StyleView",
       "description_width": ""
      }
     },
     "16c9bf625c15421c9b48cdebb85e0b26": {
      "model_module": "@jupyter-widgets/controls",
      "model_module_version": "1.5.0",
      "model_name": "ProgressStyleModel",
      "state": {
       "_model_module": "@jupyter-widgets/controls",
       "_model_module_version": "1.5.0",
       "_model_name": "ProgressStyleModel",
       "_view_count": null,
       "_view_module": "@jupyter-widgets/base",
       "_view_module_version": "1.2.0",
       "_view_name": "StyleView",
       "bar_color": null,
       "description_width": ""
      }
     },
     "1a80765448b64e479d78564a5805a895": {
      "model_module": "@jupyter-widgets/controls",
      "model_module_version": "1.5.0",
      "model_name": "ProgressStyleModel",
      "state": {
       "_model_module": "@jupyter-widgets/controls",
       "_model_module_version": "1.5.0",
       "_model_name": "ProgressStyleModel",
       "_view_count": null,
       "_view_module": "@jupyter-widgets/base",
       "_view_module_version": "1.2.0",
       "_view_name": "StyleView",
       "bar_color": null,
       "description_width": ""
      }
     },
     "1f828d86f55747b6bd30ee78fc7ff09d": {
      "model_module": "@jupyter-widgets/controls",
      "model_module_version": "1.5.0",
      "model_name": "HTMLModel",
      "state": {
       "_dom_classes": [],
       "_model_module": "@jupyter-widgets/controls",
       "_model_module_version": "1.5.0",
       "_model_name": "HTMLModel",
       "_view_count": null,
       "_view_module": "@jupyter-widgets/controls",
       "_view_module_version": "1.5.0",
       "_view_name": "HTMLView",
       "description": "",
       "description_tooltip": null,
       "layout": "IPY_MODEL_e9286a69ddab4e1cab5d42a4adf6e290",
       "placeholder": "​",
       "style": "IPY_MODEL_b275494ac0bc4675be871478ba9b4dc4",
       "value": "tokenizer_config.json: 100%"
      }
     },
     "210f2c9993394f31952f7297adc4344c": {
      "model_module": "@jupyter-widgets/controls",
      "model_module_version": "1.5.0",
      "model_name": "DescriptionStyleModel",
      "state": {
       "_model_module": "@jupyter-widgets/controls",
       "_model_module_version": "1.5.0",
       "_model_name": "DescriptionStyleModel",
       "_view_count": null,
       "_view_module": "@jupyter-widgets/base",
       "_view_module_version": "1.2.0",
       "_view_name": "StyleView",
       "description_width": ""
      }
     },
     "2177a95a8bc043a3a2e7b4d06da01bc9": {
      "model_module": "@jupyter-widgets/controls",
      "model_module_version": "1.5.0",
      "model_name": "DescriptionStyleModel",
      "state": {
       "_model_module": "@jupyter-widgets/controls",
       "_model_module_version": "1.5.0",
       "_model_name": "DescriptionStyleModel",
       "_view_count": null,
       "_view_module": "@jupyter-widgets/base",
       "_view_module_version": "1.2.0",
       "_view_name": "StyleView",
       "description_width": ""
      }
     },
     "28a8746ecf3a463e9e54e3e2fdac9887": {
      "model_module": "@jupyter-widgets/base",
      "model_module_version": "1.2.0",
      "model_name": "LayoutModel",
      "state": {
       "_model_module": "@jupyter-widgets/base",
       "_model_module_version": "1.2.0",
       "_model_name": "LayoutModel",
       "_view_count": null,
       "_view_module": "@jupyter-widgets/base",
       "_view_module_version": "1.2.0",
       "_view_name": "LayoutView",
       "align_content": null,
       "align_items": null,
       "align_self": null,
       "border": null,
       "bottom": null,
       "display": null,
       "flex": null,
       "flex_flow": null,
       "grid_area": null,
       "grid_auto_columns": null,
       "grid_auto_flow": null,
       "grid_auto_rows": null,
       "grid_column": null,
       "grid_gap": null,
       "grid_row": null,
       "grid_template_areas": null,
       "grid_template_columns": null,
       "grid_template_rows": null,
       "height": null,
       "justify_content": null,
       "justify_items": null,
       "left": null,
       "margin": null,
       "max_height": null,
       "max_width": null,
       "min_height": null,
       "min_width": null,
       "object_fit": null,
       "object_position": null,
       "order": null,
       "overflow": null,
       "overflow_x": null,
       "overflow_y": null,
       "padding": null,
       "right": null,
       "top": null,
       "visibility": null,
       "width": null
      }
     },
     "2aa030083d7349a79242fa30bebb01e2": {
      "model_module": "@jupyter-widgets/base",
      "model_module_version": "1.2.0",
      "model_name": "LayoutModel",
      "state": {
       "_model_module": "@jupyter-widgets/base",
       "_model_module_version": "1.2.0",
       "_model_name": "LayoutModel",
       "_view_count": null,
       "_view_module": "@jupyter-widgets/base",
       "_view_module_version": "1.2.0",
       "_view_name": "LayoutView",
       "align_content": null,
       "align_items": null,
       "align_self": null,
       "border": null,
       "bottom": null,
       "display": null,
       "flex": null,
       "flex_flow": null,
       "grid_area": null,
       "grid_auto_columns": null,
       "grid_auto_flow": null,
       "grid_auto_rows": null,
       "grid_column": null,
       "grid_gap": null,
       "grid_row": null,
       "grid_template_areas": null,
       "grid_template_columns": null,
       "grid_template_rows": null,
       "height": null,
       "justify_content": null,
       "justify_items": null,
       "left": null,
       "margin": null,
       "max_height": null,
       "max_width": null,
       "min_height": null,
       "min_width": null,
       "object_fit": null,
       "object_position": null,
       "order": null,
       "overflow": null,
       "overflow_x": null,
       "overflow_y": null,
       "padding": null,
       "right": null,
       "top": null,
       "visibility": null,
       "width": null
      }
     },
     "30357a5d2bd64937b09479efc7bb70d7": {
      "model_module": "@jupyter-widgets/controls",
      "model_module_version": "1.5.0",
      "model_name": "ProgressStyleModel",
      "state": {
       "_model_module": "@jupyter-widgets/controls",
       "_model_module_version": "1.5.0",
       "_model_name": "ProgressStyleModel",
       "_view_count": null,
       "_view_module": "@jupyter-widgets/base",
       "_view_module_version": "1.2.0",
       "_view_name": "StyleView",
       "bar_color": null,
       "description_width": ""
      }
     },
     "36c38ee43cbe431b8ccd3d95cb9fd24c": {
      "model_module": "@jupyter-widgets/base",
      "model_module_version": "1.2.0",
      "model_name": "LayoutModel",
      "state": {
       "_model_module": "@jupyter-widgets/base",
       "_model_module_version": "1.2.0",
       "_model_name": "LayoutModel",
       "_view_count": null,
       "_view_module": "@jupyter-widgets/base",
       "_view_module_version": "1.2.0",
       "_view_name": "LayoutView",
       "align_content": null,
       "align_items": null,
       "align_self": null,
       "border": null,
       "bottom": null,
       "display": null,
       "flex": null,
       "flex_flow": null,
       "grid_area": null,
       "grid_auto_columns": null,
       "grid_auto_flow": null,
       "grid_auto_rows": null,
       "grid_column": null,
       "grid_gap": null,
       "grid_row": null,
       "grid_template_areas": null,
       "grid_template_columns": null,
       "grid_template_rows": null,
       "height": null,
       "justify_content": null,
       "justify_items": null,
       "left": null,
       "margin": null,
       "max_height": null,
       "max_width": null,
       "min_height": null,
       "min_width": null,
       "object_fit": null,
       "object_position": null,
       "order": null,
       "overflow": null,
       "overflow_x": null,
       "overflow_y": null,
       "padding": null,
       "right": null,
       "top": null,
       "visibility": null,
       "width": null
      }
     },
     "38bdb8e88cfa4c848279c3c894efff45": {
      "model_module": "@jupyter-widgets/base",
      "model_module_version": "1.2.0",
      "model_name": "LayoutModel",
      "state": {
       "_model_module": "@jupyter-widgets/base",
       "_model_module_version": "1.2.0",
       "_model_name": "LayoutModel",
       "_view_count": null,
       "_view_module": "@jupyter-widgets/base",
       "_view_module_version": "1.2.0",
       "_view_name": "LayoutView",
       "align_content": null,
       "align_items": null,
       "align_self": null,
       "border": null,
       "bottom": null,
       "display": null,
       "flex": null,
       "flex_flow": null,
       "grid_area": null,
       "grid_auto_columns": null,
       "grid_auto_flow": null,
       "grid_auto_rows": null,
       "grid_column": null,
       "grid_gap": null,
       "grid_row": null,
       "grid_template_areas": null,
       "grid_template_columns": null,
       "grid_template_rows": null,
       "height": null,
       "justify_content": null,
       "justify_items": null,
       "left": null,
       "margin": null,
       "max_height": null,
       "max_width": null,
       "min_height": null,
       "min_width": null,
       "object_fit": null,
       "object_position": null,
       "order": null,
       "overflow": null,
       "overflow_x": null,
       "overflow_y": null,
       "padding": null,
       "right": null,
       "top": null,
       "visibility": null,
       "width": null
      }
     },
     "3e6984ce247f4a1ca973144a1b6bc83a": {
      "model_module": "@jupyter-widgets/base",
      "model_module_version": "1.2.0",
      "model_name": "LayoutModel",
      "state": {
       "_model_module": "@jupyter-widgets/base",
       "_model_module_version": "1.2.0",
       "_model_name": "LayoutModel",
       "_view_count": null,
       "_view_module": "@jupyter-widgets/base",
       "_view_module_version": "1.2.0",
       "_view_name": "LayoutView",
       "align_content": null,
       "align_items": null,
       "align_self": null,
       "border": null,
       "bottom": null,
       "display": null,
       "flex": null,
       "flex_flow": null,
       "grid_area": null,
       "grid_auto_columns": null,
       "grid_auto_flow": null,
       "grid_auto_rows": null,
       "grid_column": null,
       "grid_gap": null,
       "grid_row": null,
       "grid_template_areas": null,
       "grid_template_columns": null,
       "grid_template_rows": null,
       "height": null,
       "justify_content": null,
       "justify_items": null,
       "left": null,
       "margin": null,
       "max_height": null,
       "max_width": null,
       "min_height": null,
       "min_width": null,
       "object_fit": null,
       "object_position": null,
       "order": null,
       "overflow": null,
       "overflow_x": null,
       "overflow_y": null,
       "padding": null,
       "right": null,
       "top": null,
       "visibility": null,
       "width": null
      }
     },
     "41bdafd13ba544b79ba171be6d4ee73a": {
      "model_module": "@jupyter-widgets/controls",
      "model_module_version": "1.5.0",
      "model_name": "HBoxModel",
      "state": {
       "_dom_classes": [],
       "_model_module": "@jupyter-widgets/controls",
       "_model_module_version": "1.5.0",
       "_model_name": "HBoxModel",
       "_view_count": null,
       "_view_module": "@jupyter-widgets/controls",
       "_view_module_version": "1.5.0",
       "_view_name": "HBoxView",
       "box_style": "",
       "children": [
        "IPY_MODEL_860199c62ff245ea962df5546d615045",
        "IPY_MODEL_9d14ec4429f34f45b88b0d649528f5a7",
        "IPY_MODEL_5f9e4042e6454c6f8a34a7f95083e7e6"
       ],
       "layout": "IPY_MODEL_850fb4a978f24d40af663555aeff1729"
      }
     },
     "46339dd4559a420cb711c28942ffe103": {
      "model_module": "@jupyter-widgets/controls",
      "model_module_version": "1.5.0",
      "model_name": "HBoxModel",
      "state": {
       "_dom_classes": [],
       "_model_module": "@jupyter-widgets/controls",
       "_model_module_version": "1.5.0",
       "_model_name": "HBoxModel",
       "_view_count": null,
       "_view_module": "@jupyter-widgets/controls",
       "_view_module_version": "1.5.0",
       "_view_name": "HBoxView",
       "box_style": "",
       "children": [
        "IPY_MODEL_fb7d7a31937f4edba5407a0d110db84f",
        "IPY_MODEL_bca27a804d5c4c99b3a419b2ebe65b8a",
        "IPY_MODEL_9cf7bd648a7e49c1bec48a9ac8eeb703"
       ],
       "layout": "IPY_MODEL_5c34c757648f47fea2cb05cfe07cf997"
      }
     },
     "4963d8fd0fe74750bf0ced32719ceddd": {
      "model_module": "@jupyter-widgets/controls",
      "model_module_version": "1.5.0",
      "model_name": "ProgressStyleModel",
      "state": {
       "_model_module": "@jupyter-widgets/controls",
       "_model_module_version": "1.5.0",
       "_model_name": "ProgressStyleModel",
       "_view_count": null,
       "_view_module": "@jupyter-widgets/base",
       "_view_module_version": "1.2.0",
       "_view_name": "StyleView",
       "bar_color": null,
       "description_width": ""
      }
     },
     "4a2bf22c769b48b89a85eb5a62947eb4": {
      "model_module": "@jupyter-widgets/base",
      "model_module_version": "1.2.0",
      "model_name": "LayoutModel",
      "state": {
       "_model_module": "@jupyter-widgets/base",
       "_model_module_version": "1.2.0",
       "_model_name": "LayoutModel",
       "_view_count": null,
       "_view_module": "@jupyter-widgets/base",
       "_view_module_version": "1.2.0",
       "_view_name": "LayoutView",
       "align_content": null,
       "align_items": null,
       "align_self": null,
       "border": null,
       "bottom": null,
       "display": null,
       "flex": null,
       "flex_flow": null,
       "grid_area": null,
       "grid_auto_columns": null,
       "grid_auto_flow": null,
       "grid_auto_rows": null,
       "grid_column": null,
       "grid_gap": null,
       "grid_row": null,
       "grid_template_areas": null,
       "grid_template_columns": null,
       "grid_template_rows": null,
       "height": null,
       "justify_content": null,
       "justify_items": null,
       "left": null,
       "margin": null,
       "max_height": null,
       "max_width": null,
       "min_height": null,
       "min_width": null,
       "object_fit": null,
       "object_position": null,
       "order": null,
       "overflow": null,
       "overflow_x": null,
       "overflow_y": null,
       "padding": null,
       "right": null,
       "top": null,
       "visibility": null,
       "width": null
      }
     },
     "53d129d47c9a456fa28b18360a4a8712": {
      "model_module": "@jupyter-widgets/controls",
      "model_module_version": "1.5.0",
      "model_name": "FloatProgressModel",
      "state": {
       "_dom_classes": [],
       "_model_module": "@jupyter-widgets/controls",
       "_model_module_version": "1.5.0",
       "_model_name": "FloatProgressModel",
       "_view_count": null,
       "_view_module": "@jupyter-widgets/controls",
       "_view_module_version": "1.5.0",
       "_view_name": "ProgressView",
       "bar_style": "success",
       "description": "",
       "description_tooltip": null,
       "layout": "IPY_MODEL_3e6984ce247f4a1ca973144a1b6bc83a",
       "max": 435797.0,
       "min": 0.0,
       "orientation": "horizontal",
       "style": "IPY_MODEL_16c9bf625c15421c9b48cdebb85e0b26",
       "value": 435797.0
      }
     },
     "5c34c757648f47fea2cb05cfe07cf997": {
      "model_module": "@jupyter-widgets/base",
      "model_module_version": "1.2.0",
      "model_name": "LayoutModel",
      "state": {
       "_model_module": "@jupyter-widgets/base",
       "_model_module_version": "1.2.0",
       "_model_name": "LayoutModel",
       "_view_count": null,
       "_view_module": "@jupyter-widgets/base",
       "_view_module_version": "1.2.0",
       "_view_name": "LayoutView",
       "align_content": null,
       "align_items": null,
       "align_self": null,
       "border": null,
       "bottom": null,
       "display": null,
       "flex": null,
       "flex_flow": null,
       "grid_area": null,
       "grid_auto_columns": null,
       "grid_auto_flow": null,
       "grid_auto_rows": null,
       "grid_column": null,
       "grid_gap": null,
       "grid_row": null,
       "grid_template_areas": null,
       "grid_template_columns": null,
       "grid_template_rows": null,
       "height": null,
       "justify_content": null,
       "justify_items": null,
       "left": null,
       "margin": null,
       "max_height": null,
       "max_width": null,
       "min_height": null,
       "min_width": null,
       "object_fit": null,
       "object_position": null,
       "order": null,
       "overflow": null,
       "overflow_x": null,
       "overflow_y": null,
       "padding": null,
       "right": null,
       "top": null,
       "visibility": null,
       "width": null
      }
     },
     "5f9e4042e6454c6f8a34a7f95083e7e6": {
      "model_module": "@jupyter-widgets/controls",
      "model_module_version": "1.5.0",
      "model_name": "HTMLModel",
      "state": {
       "_dom_classes": [],
       "_model_module": "@jupyter-widgets/controls",
       "_model_module_version": "1.5.0",
       "_model_name": "HTMLModel",
       "_view_count": null,
       "_view_module": "@jupyter-widgets/controls",
       "_view_module_version": "1.5.0",
       "_view_name": "HTMLView",
       "description": "",
       "description_tooltip": null,
       "layout": "IPY_MODEL_6baa423bfd014343ab63519b25713e0a",
       "placeholder": "​",
       "style": "IPY_MODEL_90f90bd1d1ab4ec085f2f3db8c32abf7",
       "value": " 213k/213k [00:00&lt;00:00, 617kB/s]"
      }
     },
     "699c119165af4dc1bb70beb01d3a2f99": {
      "model_module": "@jupyter-widgets/controls",
      "model_module_version": "1.5.0",
      "model_name": "HTMLModel",
      "state": {
       "_dom_classes": [],
       "_model_module": "@jupyter-widgets/controls",
       "_model_module_version": "1.5.0",
       "_model_name": "HTMLModel",
       "_view_count": null,
       "_view_module": "@jupyter-widgets/controls",
       "_view_module_version": "1.5.0",
       "_view_name": "HTMLView",
       "description": "",
       "description_tooltip": null,
       "layout": "IPY_MODEL_4a2bf22c769b48b89a85eb5a62947eb4",
       "placeholder": "​",
       "style": "IPY_MODEL_b647ba2d11774290b3a5c2296f0e41b3",
       "value": " 263M/263M [00:13&lt;00:00, 19.5MB/s]"
      }
     },
     "6baa423bfd014343ab63519b25713e0a": {
      "model_module": "@jupyter-widgets/base",
      "model_module_version": "1.2.0",
      "model_name": "LayoutModel",
      "state": {
       "_model_module": "@jupyter-widgets/base",
       "_model_module_version": "1.2.0",
       "_model_name": "LayoutModel",
       "_view_count": null,
       "_view_module": "@jupyter-widgets/base",
       "_view_module_version": "1.2.0",
       "_view_name": "LayoutView",
       "align_content": null,
       "align_items": null,
       "align_self": null,
       "border": null,
       "bottom": null,
       "display": null,
       "flex": null,
       "flex_flow": null,
       "grid_area": null,
       "grid_auto_columns": null,
       "grid_auto_flow": null,
       "grid_auto_rows": null,
       "grid_column": null,
       "grid_gap": null,
       "grid_row": null,
       "grid_template_areas": null,
       "grid_template_columns": null,
       "grid_template_rows": null,
       "height": null,
       "justify_content": null,
       "justify_items": null,
       "left": null,
       "margin": null,
       "max_height": null,
       "max_width": null,
       "min_height": null,
       "min_width": null,
       "object_fit": null,
       "object_position": null,
       "order": null,
       "overflow": null,
       "overflow_x": null,
       "overflow_y": null,
       "padding": null,
       "right": null,
       "top": null,
       "visibility": null,
       "width": null
      }
     },
     "722972bbf3484df4995d274e8f8ab37a": {
      "model_module": "@jupyter-widgets/controls",
      "model_module_version": "1.5.0",
      "model_name": "HTMLModel",
      "state": {
       "_dom_classes": [],
       "_model_module": "@jupyter-widgets/controls",
       "_model_module_version": "1.5.0",
       "_model_name": "HTMLModel",
       "_view_count": null,
       "_view_module": "@jupyter-widgets/controls",
       "_view_module_version": "1.5.0",
       "_view_name": "HTMLView",
       "description": "",
       "description_tooltip": null,
       "layout": "IPY_MODEL_cb4d8ea48a5c4120a331dce87e4ae874",
       "placeholder": "​",
       "style": "IPY_MODEL_2177a95a8bc043a3a2e7b4d06da01bc9",
       "value": " 436k/436k [00:00&lt;00:00, 841kB/s]"
      }
     },
     "7338665e7f7b46d49303b7f775f38082": {
      "model_module": "@jupyter-widgets/controls",
      "model_module_version": "1.5.0",
      "model_name": "ProgressStyleModel",
      "state": {
       "_model_module": "@jupyter-widgets/controls",
       "_model_module_version": "1.5.0",
       "_model_name": "ProgressStyleModel",
       "_view_count": null,
       "_view_module": "@jupyter-widgets/base",
       "_view_module_version": "1.2.0",
       "_view_name": "StyleView",
       "bar_color": null,
       "description_width": ""
      }
     },
     "75bafc89bb4c42adb25fb84a63a7737e": {
      "model_module": "@jupyter-widgets/base",
      "model_module_version": "1.2.0",
      "model_name": "LayoutModel",
      "state": {
       "_model_module": "@jupyter-widgets/base",
       "_model_module_version": "1.2.0",
       "_model_name": "LayoutModel",
       "_view_count": null,
       "_view_module": "@jupyter-widgets/base",
       "_view_module_version": "1.2.0",
       "_view_name": "LayoutView",
       "align_content": null,
       "align_items": null,
       "align_self": null,
       "border": null,
       "bottom": null,
       "display": null,
       "flex": null,
       "flex_flow": null,
       "grid_area": null,
       "grid_auto_columns": null,
       "grid_auto_flow": null,
       "grid_auto_rows": null,
       "grid_column": null,
       "grid_gap": null,
       "grid_row": null,
       "grid_template_areas": null,
       "grid_template_columns": null,
       "grid_template_rows": null,
       "height": null,
       "justify_content": null,
       "justify_items": null,
       "left": null,
       "margin": null,
       "max_height": null,
       "max_width": null,
       "min_height": null,
       "min_width": null,
       "object_fit": null,
       "object_position": null,
       "order": null,
       "overflow": null,
       "overflow_x": null,
       "overflow_y": null,
       "padding": null,
       "right": null,
       "top": null,
       "visibility": null,
       "width": null
      }
     },
     "7f045bee2c3e447c87654c6bb3b35335": {
      "model_module": "@jupyter-widgets/base",
      "model_module_version": "1.2.0",
      "model_name": "LayoutModel",
      "state": {
       "_model_module": "@jupyter-widgets/base",
       "_model_module_version": "1.2.0",
       "_model_name": "LayoutModel",
       "_view_count": null,
       "_view_module": "@jupyter-widgets/base",
       "_view_module_version": "1.2.0",
       "_view_name": "LayoutView",
       "align_content": null,
       "align_items": null,
       "align_self": null,
       "border": null,
       "bottom": null,
       "display": null,
       "flex": null,
       "flex_flow": null,
       "grid_area": null,
       "grid_auto_columns": null,
       "grid_auto_flow": null,
       "grid_auto_rows": null,
       "grid_column": null,
       "grid_gap": null,
       "grid_row": null,
       "grid_template_areas": null,
       "grid_template_columns": null,
       "grid_template_rows": null,
       "height": null,
       "justify_content": null,
       "justify_items": null,
       "left": null,
       "margin": null,
       "max_height": null,
       "max_width": null,
       "min_height": null,
       "min_width": null,
       "object_fit": null,
       "object_position": null,
       "order": null,
       "overflow": null,
       "overflow_x": null,
       "overflow_y": null,
       "padding": null,
       "right": null,
       "top": null,
       "visibility": null,
       "width": null
      }
     },
     "8144c5eb217a4741bb34d4fd29d2ed81": {
      "model_module": "@jupyter-widgets/controls",
      "model_module_version": "1.5.0",
      "model_name": "FloatProgressModel",
      "state": {
       "_dom_classes": [],
       "_model_module": "@jupyter-widgets/controls",
       "_model_module_version": "1.5.0",
       "_model_name": "FloatProgressModel",
       "_view_count": null,
       "_view_module": "@jupyter-widgets/controls",
       "_view_module_version": "1.5.0",
       "_view_name": "ProgressView",
       "bar_style": "success",
       "description": "",
       "description_tooltip": null,
       "layout": "IPY_MODEL_36c38ee43cbe431b8ccd3d95cb9fd24c",
       "max": 49.0,
       "min": 0.0,
       "orientation": "horizontal",
       "style": "IPY_MODEL_30357a5d2bd64937b09479efc7bb70d7",
       "value": 49.0
      }
     },
     "850fb4a978f24d40af663555aeff1729": {
      "model_module": "@jupyter-widgets/base",
      "model_module_version": "1.2.0",
      "model_name": "LayoutModel",
      "state": {
       "_model_module": "@jupyter-widgets/base",
       "_model_module_version": "1.2.0",
       "_model_name": "LayoutModel",
       "_view_count": null,
       "_view_module": "@jupyter-widgets/base",
       "_view_module_version": "1.2.0",
       "_view_name": "LayoutView",
       "align_content": null,
       "align_items": null,
       "align_self": null,
       "border": null,
       "bottom": null,
       "display": null,
       "flex": null,
       "flex_flow": null,
       "grid_area": null,
       "grid_auto_columns": null,
       "grid_auto_flow": null,
       "grid_auto_rows": null,
       "grid_column": null,
       "grid_gap": null,
       "grid_row": null,
       "grid_template_areas": null,
       "grid_template_columns": null,
       "grid_template_rows": null,
       "height": null,
       "justify_content": null,
       "justify_items": null,
       "left": null,
       "margin": null,
       "max_height": null,
       "max_width": null,
       "min_height": null,
       "min_width": null,
       "object_fit": null,
       "object_position": null,
       "order": null,
       "overflow": null,
       "overflow_x": null,
       "overflow_y": null,
       "padding": null,
       "right": null,
       "top": null,
       "visibility": null,
       "width": null
      }
     },
     "860199c62ff245ea962df5546d615045": {
      "model_module": "@jupyter-widgets/controls",
      "model_module_version": "1.5.0",
      "model_name": "HTMLModel",
      "state": {
       "_dom_classes": [],
       "_model_module": "@jupyter-widgets/controls",
       "_model_module_version": "1.5.0",
       "_model_name": "HTMLModel",
       "_view_count": null,
       "_view_module": "@jupyter-widgets/controls",
       "_view_module_version": "1.5.0",
       "_view_name": "HTMLView",
       "description": "",
       "description_tooltip": null,
       "layout": "IPY_MODEL_2aa030083d7349a79242fa30bebb01e2",
       "placeholder": "​",
       "style": "IPY_MODEL_950b8ab9f5c24c7a9301451d59c9cf73",
       "value": "vocab.txt: 100%"
      }
     },
     "8c6fab0977164f6cab43b7ecfc89b673": {
      "model_module": "@jupyter-widgets/base",
      "model_module_version": "1.2.0",
      "model_name": "LayoutModel",
      "state": {
       "_model_module": "@jupyter-widgets/base",
       "_model_module_version": "1.2.0",
       "_model_name": "LayoutModel",
       "_view_count": null,
       "_view_module": "@jupyter-widgets/base",
       "_view_module_version": "1.2.0",
       "_view_name": "LayoutView",
       "align_content": null,
       "align_items": null,
       "align_self": null,
       "border": null,
       "bottom": null,
       "display": null,
       "flex": null,
       "flex_flow": null,
       "grid_area": null,
       "grid_auto_columns": null,
       "grid_auto_flow": null,
       "grid_auto_rows": null,
       "grid_column": null,
       "grid_gap": null,
       "grid_row": null,
       "grid_template_areas": null,
       "grid_template_columns": null,
       "grid_template_rows": null,
       "height": null,
       "justify_content": null,
       "justify_items": null,
       "left": null,
       "margin": null,
       "max_height": null,
       "max_width": null,
       "min_height": null,
       "min_width": null,
       "object_fit": null,
       "object_position": null,
       "order": null,
       "overflow": null,
       "overflow_x": null,
       "overflow_y": null,
       "padding": null,
       "right": null,
       "top": null,
       "visibility": null,
       "width": null
      }
     },
     "8d4cec982c1442d7a961e67cb14f8348": {
      "model_module": "@jupyter-widgets/base",
      "model_module_version": "1.2.0",
      "model_name": "LayoutModel",
      "state": {
       "_model_module": "@jupyter-widgets/base",
       "_model_module_version": "1.2.0",
       "_model_name": "LayoutModel",
       "_view_count": null,
       "_view_module": "@jupyter-widgets/base",
       "_view_module_version": "1.2.0",
       "_view_name": "LayoutView",
       "align_content": null,
       "align_items": null,
       "align_self": null,
       "border": null,
       "bottom": null,
       "display": null,
       "flex": null,
       "flex_flow": null,
       "grid_area": null,
       "grid_auto_columns": null,
       "grid_auto_flow": null,
       "grid_auto_rows": null,
       "grid_column": null,
       "grid_gap": null,
       "grid_row": null,
       "grid_template_areas": null,
       "grid_template_columns": null,
       "grid_template_rows": null,
       "height": null,
       "justify_content": null,
       "justify_items": null,
       "left": null,
       "margin": null,
       "max_height": null,
       "max_width": null,
       "min_height": null,
       "min_width": null,
       "object_fit": null,
       "object_position": null,
       "order": null,
       "overflow": null,
       "overflow_x": null,
       "overflow_y": null,
       "padding": null,
       "right": null,
       "top": null,
       "visibility": null,
       "width": null
      }
     },
     "90f90bd1d1ab4ec085f2f3db8c32abf7": {
      "model_module": "@jupyter-widgets/controls",
      "model_module_version": "1.5.0",
      "model_name": "DescriptionStyleModel",
      "state": {
       "_model_module": "@jupyter-widgets/controls",
       "_model_module_version": "1.5.0",
       "_model_name": "DescriptionStyleModel",
       "_view_count": null,
       "_view_module": "@jupyter-widgets/base",
       "_view_module_version": "1.2.0",
       "_view_name": "StyleView",
       "description_width": ""
      }
     },
     "950b8ab9f5c24c7a9301451d59c9cf73": {
      "model_module": "@jupyter-widgets/controls",
      "model_module_version": "1.5.0",
      "model_name": "DescriptionStyleModel",
      "state": {
       "_model_module": "@jupyter-widgets/controls",
       "_model_module_version": "1.5.0",
       "_model_name": "DescriptionStyleModel",
       "_view_count": null,
       "_view_module": "@jupyter-widgets/base",
       "_view_module_version": "1.2.0",
       "_view_name": "StyleView",
       "description_width": ""
      }
     },
     "9cf7bd648a7e49c1bec48a9ac8eeb703": {
      "model_module": "@jupyter-widgets/controls",
      "model_module_version": "1.5.0",
      "model_name": "HTMLModel",
      "state": {
       "_dom_classes": [],
       "_model_module": "@jupyter-widgets/controls",
       "_model_module_version": "1.5.0",
       "_model_name": "HTMLModel",
       "_view_count": null,
       "_view_module": "@jupyter-widgets/controls",
       "_view_module_version": "1.5.0",
       "_view_name": "HTMLView",
       "description": "",
       "description_tooltip": null,
       "layout": "IPY_MODEL_a4e05e0543104082821dacd1d85ab8c7",
       "placeholder": "​",
       "style": "IPY_MODEL_08141d6fb08545358d6e9e562e2d8f8d",
       "value": " 465/465 [00:00&lt;00:00, 40.0kB/s]"
      }
     },
     "9d01df9e902949b99842b5be9aa1b376": {
      "model_module": "@jupyter-widgets/controls",
      "model_module_version": "1.5.0",
      "model_name": "DescriptionStyleModel",
      "state": {
       "_model_module": "@jupyter-widgets/controls",
       "_model_module_version": "1.5.0",
       "_model_name": "DescriptionStyleModel",
       "_view_count": null,
       "_view_module": "@jupyter-widgets/base",
       "_view_module_version": "1.2.0",
       "_view_name": "StyleView",
       "description_width": ""
      }
     },
     "9d14ec4429f34f45b88b0d649528f5a7": {
      "model_module": "@jupyter-widgets/controls",
      "model_module_version": "1.5.0",
      "model_name": "FloatProgressModel",
      "state": {
       "_dom_classes": [],
       "_model_module": "@jupyter-widgets/controls",
       "_model_module_version": "1.5.0",
       "_model_name": "FloatProgressModel",
       "_view_count": null,
       "_view_module": "@jupyter-widgets/controls",
       "_view_module_version": "1.5.0",
       "_view_name": "ProgressView",
       "bar_style": "success",
       "description": "",
       "description_tooltip": null,
       "layout": "IPY_MODEL_8d4cec982c1442d7a961e67cb14f8348",
       "max": 213450.0,
       "min": 0.0,
       "orientation": "horizontal",
       "style": "IPY_MODEL_1a80765448b64e479d78564a5805a895",
       "value": 213450.0
      }
     },
     "a4e05e0543104082821dacd1d85ab8c7": {
      "model_module": "@jupyter-widgets/base",
      "model_module_version": "1.2.0",
      "model_name": "LayoutModel",
      "state": {
       "_model_module": "@jupyter-widgets/base",
       "_model_module_version": "1.2.0",
       "_model_name": "LayoutModel",
       "_view_count": null,
       "_view_module": "@jupyter-widgets/base",
       "_view_module_version": "1.2.0",
       "_view_name": "LayoutView",
       "align_content": null,
       "align_items": null,
       "align_self": null,
       "border": null,
       "bottom": null,
       "display": null,
       "flex": null,
       "flex_flow": null,
       "grid_area": null,
       "grid_auto_columns": null,
       "grid_auto_flow": null,
       "grid_auto_rows": null,
       "grid_column": null,
       "grid_gap": null,
       "grid_row": null,
       "grid_template_areas": null,
       "grid_template_columns": null,
       "grid_template_rows": null,
       "height": null,
       "justify_content": null,
       "justify_items": null,
       "left": null,
       "margin": null,
       "max_height": null,
       "max_width": null,
       "min_height": null,
       "min_width": null,
       "object_fit": null,
       "object_position": null,
       "order": null,
       "overflow": null,
       "overflow_x": null,
       "overflow_y": null,
       "padding": null,
       "right": null,
       "top": null,
       "visibility": null,
       "width": null
      }
     },
     "a7194e7e45a64feb8894da575fe7311b": {
      "model_module": "@jupyter-widgets/base",
      "model_module_version": "1.2.0",
      "model_name": "LayoutModel",
      "state": {
       "_model_module": "@jupyter-widgets/base",
       "_model_module_version": "1.2.0",
       "_model_name": "LayoutModel",
       "_view_count": null,
       "_view_module": "@jupyter-widgets/base",
       "_view_module_version": "1.2.0",
       "_view_name": "LayoutView",
       "align_content": null,
       "align_items": null,
       "align_self": null,
       "border": null,
       "bottom": null,
       "display": null,
       "flex": null,
       "flex_flow": null,
       "grid_area": null,
       "grid_auto_columns": null,
       "grid_auto_flow": null,
       "grid_auto_rows": null,
       "grid_column": null,
       "grid_gap": null,
       "grid_row": null,
       "grid_template_areas": null,
       "grid_template_columns": null,
       "grid_template_rows": null,
       "height": null,
       "justify_content": null,
       "justify_items": null,
       "left": null,
       "margin": null,
       "max_height": null,
       "max_width": null,
       "min_height": null,
       "min_width": null,
       "object_fit": null,
       "object_position": null,
       "order": null,
       "overflow": null,
       "overflow_x": null,
       "overflow_y": null,
       "padding": null,
       "right": null,
       "top": null,
       "visibility": null,
       "width": null
      }
     },
     "ac05144ac5ba4c37810f2f55fdf9dcdc": {
      "model_module": "@jupyter-widgets/controls",
      "model_module_version": "1.5.0",
      "model_name": "HTMLModel",
      "state": {
       "_dom_classes": [],
       "_model_module": "@jupyter-widgets/controls",
       "_model_module_version": "1.5.0",
       "_model_name": "HTMLModel",
       "_view_count": null,
       "_view_module": "@jupyter-widgets/controls",
       "_view_module_version": "1.5.0",
       "_view_name": "HTMLView",
       "description": "",
       "description_tooltip": null,
       "layout": "IPY_MODEL_38bdb8e88cfa4c848279c3c894efff45",
       "placeholder": "​",
       "style": "IPY_MODEL_c82150fa094849088b5e6b2da1a00979",
       "value": "model.safetensors: 100%"
      }
     },
     "b0833d58718c443cbcd4f2998e4bb29a": {
      "model_module": "@jupyter-widgets/base",
      "model_module_version": "1.2.0",
      "model_name": "LayoutModel",
      "state": {
       "_model_module": "@jupyter-widgets/base",
       "_model_module_version": "1.2.0",
       "_model_name": "LayoutModel",
       "_view_count": null,
       "_view_module": "@jupyter-widgets/base",
       "_view_module_version": "1.2.0",
       "_view_name": "LayoutView",
       "align_content": null,
       "align_items": null,
       "align_self": null,
       "border": null,
       "bottom": null,
       "display": null,
       "flex": null,
       "flex_flow": null,
       "grid_area": null,
       "grid_auto_columns": null,
       "grid_auto_flow": null,
       "grid_auto_rows": null,
       "grid_column": null,
       "grid_gap": null,
       "grid_row": null,
       "grid_template_areas": null,
       "grid_template_columns": null,
       "grid_template_rows": null,
       "height": null,
       "justify_content": null,
       "justify_items": null,
       "left": null,
       "margin": null,
       "max_height": null,
       "max_width": null,
       "min_height": null,
       "min_width": null,
       "object_fit": null,
       "object_position": null,
       "order": null,
       "overflow": null,
       "overflow_x": null,
       "overflow_y": null,
       "padding": null,
       "right": null,
       "top": null,
       "visibility": null,
       "width": null
      }
     },
     "b275494ac0bc4675be871478ba9b4dc4": {
      "model_module": "@jupyter-widgets/controls",
      "model_module_version": "1.5.0",
      "model_name": "DescriptionStyleModel",
      "state": {
       "_model_module": "@jupyter-widgets/controls",
       "_model_module_version": "1.5.0",
       "_model_name": "DescriptionStyleModel",
       "_view_count": null,
       "_view_module": "@jupyter-widgets/base",
       "_view_module_version": "1.2.0",
       "_view_name": "StyleView",
       "description_width": ""
      }
     },
     "b647ba2d11774290b3a5c2296f0e41b3": {
      "model_module": "@jupyter-widgets/controls",
      "model_module_version": "1.5.0",
      "model_name": "DescriptionStyleModel",
      "state": {
       "_model_module": "@jupyter-widgets/controls",
       "_model_module_version": "1.5.0",
       "_model_name": "DescriptionStyleModel",
       "_view_count": null,
       "_view_module": "@jupyter-widgets/base",
       "_view_module_version": "1.2.0",
       "_view_name": "StyleView",
       "description_width": ""
      }
     },
     "bca27a804d5c4c99b3a419b2ebe65b8a": {
      "model_module": "@jupyter-widgets/controls",
      "model_module_version": "1.5.0",
      "model_name": "FloatProgressModel",
      "state": {
       "_dom_classes": [],
       "_model_module": "@jupyter-widgets/controls",
       "_model_module_version": "1.5.0",
       "_model_name": "FloatProgressModel",
       "_view_count": null,
       "_view_module": "@jupyter-widgets/controls",
       "_view_module_version": "1.5.0",
       "_view_name": "ProgressView",
       "bar_style": "success",
       "description": "",
       "description_tooltip": null,
       "layout": "IPY_MODEL_b0833d58718c443cbcd4f2998e4bb29a",
       "max": 465.0,
       "min": 0.0,
       "orientation": "horizontal",
       "style": "IPY_MODEL_4963d8fd0fe74750bf0ced32719ceddd",
       "value": 465.0
      }
     },
     "bcaba219412d4360a1474425dc8358a4": {
      "model_module": "@jupyter-widgets/controls",
      "model_module_version": "1.5.0",
      "model_name": "HTMLModel",
      "state": {
       "_dom_classes": [],
       "_model_module": "@jupyter-widgets/controls",
       "_model_module_version": "1.5.0",
       "_model_name": "HTMLModel",
       "_view_count": null,
       "_view_module": "@jupyter-widgets/controls",
       "_view_module_version": "1.5.0",
       "_view_name": "HTMLView",
       "description": "",
       "description_tooltip": null,
       "layout": "IPY_MODEL_ef626557bf25464f85a82f56c13196f9",
       "placeholder": "​",
       "style": "IPY_MODEL_9d01df9e902949b99842b5be9aa1b376",
       "value": "tokenizer.json: 100%"
      }
     },
     "c82150fa094849088b5e6b2da1a00979": {
      "model_module": "@jupyter-widgets/controls",
      "model_module_version": "1.5.0",
      "model_name": "DescriptionStyleModel",
      "state": {
       "_model_module": "@jupyter-widgets/controls",
       "_model_module_version": "1.5.0",
       "_model_name": "DescriptionStyleModel",
       "_view_count": null,
       "_view_module": "@jupyter-widgets/base",
       "_view_module_version": "1.2.0",
       "_view_name": "StyleView",
       "description_width": ""
      }
     },
     "c8e86e325e444c24aa957642a8171407": {
      "model_module": "@jupyter-widgets/controls",
      "model_module_version": "1.5.0",
      "model_name": "FloatProgressModel",
      "state": {
       "_dom_classes": [],
       "_model_module": "@jupyter-widgets/controls",
       "_model_module_version": "1.5.0",
       "_model_name": "FloatProgressModel",
       "_view_count": null,
       "_view_module": "@jupyter-widgets/controls",
       "_view_module_version": "1.5.0",
       "_view_name": "ProgressView",
       "bar_style": "success",
       "description": "",
       "description_tooltip": null,
       "layout": "IPY_MODEL_75bafc89bb4c42adb25fb84a63a7737e",
       "max": 263260784.0,
       "min": 0.0,
       "orientation": "horizontal",
       "style": "IPY_MODEL_7338665e7f7b46d49303b7f775f38082",
       "value": 263260784.0
      }
     },
     "cb4d8ea48a5c4120a331dce87e4ae874": {
      "model_module": "@jupyter-widgets/base",
      "model_module_version": "1.2.0",
      "model_name": "LayoutModel",
      "state": {
       "_model_module": "@jupyter-widgets/base",
       "_model_module_version": "1.2.0",
       "_model_name": "LayoutModel",
       "_view_count": null,
       "_view_module": "@jupyter-widgets/base",
       "_view_module_version": "1.2.0",
       "_view_name": "LayoutView",
       "align_content": null,
       "align_items": null,
       "align_self": null,
       "border": null,
       "bottom": null,
       "display": null,
       "flex": null,
       "flex_flow": null,
       "grid_area": null,
       "grid_auto_columns": null,
       "grid_auto_flow": null,
       "grid_auto_rows": null,
       "grid_column": null,
       "grid_gap": null,
       "grid_row": null,
       "grid_template_areas": null,
       "grid_template_columns": null,
       "grid_template_rows": null,
       "height": null,
       "justify_content": null,
       "justify_items": null,
       "left": null,
       "margin": null,
       "max_height": null,
       "max_width": null,
       "min_height": null,
       "min_width": null,
       "object_fit": null,
       "object_position": null,
       "order": null,
       "overflow": null,
       "overflow_x": null,
       "overflow_y": null,
       "padding": null,
       "right": null,
       "top": null,
       "visibility": null,
       "width": null
      }
     },
     "ce7f5808651046bea48cd107bc262467": {
      "model_module": "@jupyter-widgets/controls",
      "model_module_version": "1.5.0",
      "model_name": "HBoxModel",
      "state": {
       "_dom_classes": [],
       "_model_module": "@jupyter-widgets/controls",
       "_model_module_version": "1.5.0",
       "_model_name": "HBoxModel",
       "_view_count": null,
       "_view_module": "@jupyter-widgets/controls",
       "_view_module_version": "1.5.0",
       "_view_name": "HBoxView",
       "box_style": "",
       "children": [
        "IPY_MODEL_1f828d86f55747b6bd30ee78fc7ff09d",
        "IPY_MODEL_8144c5eb217a4741bb34d4fd29d2ed81",
        "IPY_MODEL_f14bea4b79ec4a428d5e3bfbd8208692"
       ],
       "layout": "IPY_MODEL_7f045bee2c3e447c87654c6bb3b35335"
      }
     },
     "e9286a69ddab4e1cab5d42a4adf6e290": {
      "model_module": "@jupyter-widgets/base",
      "model_module_version": "1.2.0",
      "model_name": "LayoutModel",
      "state": {
       "_model_module": "@jupyter-widgets/base",
       "_model_module_version": "1.2.0",
       "_model_name": "LayoutModel",
       "_view_count": null,
       "_view_module": "@jupyter-widgets/base",
       "_view_module_version": "1.2.0",
       "_view_name": "LayoutView",
       "align_content": null,
       "align_items": null,
       "align_self": null,
       "border": null,
       "bottom": null,
       "display": null,
       "flex": null,
       "flex_flow": null,
       "grid_area": null,
       "grid_auto_columns": null,
       "grid_auto_flow": null,
       "grid_auto_rows": null,
       "grid_column": null,
       "grid_gap": null,
       "grid_row": null,
       "grid_template_areas": null,
       "grid_template_columns": null,
       "grid_template_rows": null,
       "height": null,
       "justify_content": null,
       "justify_items": null,
       "left": null,
       "margin": null,
       "max_height": null,
       "max_width": null,
       "min_height": null,
       "min_width": null,
       "object_fit": null,
       "object_position": null,
       "order": null,
       "overflow": null,
       "overflow_x": null,
       "overflow_y": null,
       "padding": null,
       "right": null,
       "top": null,
       "visibility": null,
       "width": null
      }
     },
     "ef626557bf25464f85a82f56c13196f9": {
      "model_module": "@jupyter-widgets/base",
      "model_module_version": "1.2.0",
      "model_name": "LayoutModel",
      "state": {
       "_model_module": "@jupyter-widgets/base",
       "_model_module_version": "1.2.0",
       "_model_name": "LayoutModel",
       "_view_count": null,
       "_view_module": "@jupyter-widgets/base",
       "_view_module_version": "1.2.0",
       "_view_name": "LayoutView",
       "align_content": null,
       "align_items": null,
       "align_self": null,
       "border": null,
       "bottom": null,
       "display": null,
       "flex": null,
       "flex_flow": null,
       "grid_area": null,
       "grid_auto_columns": null,
       "grid_auto_flow": null,
       "grid_auto_rows": null,
       "grid_column": null,
       "grid_gap": null,
       "grid_row": null,
       "grid_template_areas": null,
       "grid_template_columns": null,
       "grid_template_rows": null,
       "height": null,
       "justify_content": null,
       "justify_items": null,
       "left": null,
       "margin": null,
       "max_height": null,
       "max_width": null,
       "min_height": null,
       "min_width": null,
       "object_fit": null,
       "object_position": null,
       "order": null,
       "overflow": null,
       "overflow_x": null,
       "overflow_y": null,
       "padding": null,
       "right": null,
       "top": null,
       "visibility": null,
       "width": null
      }
     },
     "f14bea4b79ec4a428d5e3bfbd8208692": {
      "model_module": "@jupyter-widgets/controls",
      "model_module_version": "1.5.0",
      "model_name": "HTMLModel",
      "state": {
       "_dom_classes": [],
       "_model_module": "@jupyter-widgets/controls",
       "_model_module_version": "1.5.0",
       "_model_name": "HTMLModel",
       "_view_count": null,
       "_view_module": "@jupyter-widgets/controls",
       "_view_module_version": "1.5.0",
       "_view_name": "HTMLView",
       "description": "",
       "description_tooltip": null,
       "layout": "IPY_MODEL_a7194e7e45a64feb8894da575fe7311b",
       "placeholder": "​",
       "style": "IPY_MODEL_15cb012f96c142d099babc5a7b23dbd1",
       "value": " 49.0/49.0 [00:00&lt;00:00, 3.99kB/s]"
      }
     },
     "f3b36cbce37c4091b3515d5769de7567": {
      "model_module": "@jupyter-widgets/base",
      "model_module_version": "1.2.0",
      "model_name": "LayoutModel",
      "state": {
       "_model_module": "@jupyter-widgets/base",
       "_model_module_version": "1.2.0",
       "_model_name": "LayoutModel",
       "_view_count": null,
       "_view_module": "@jupyter-widgets/base",
       "_view_module_version": "1.2.0",
       "_view_name": "LayoutView",
       "align_content": null,
       "align_items": null,
       "align_self": null,
       "border": null,
       "bottom": null,
       "display": null,
       "flex": null,
       "flex_flow": null,
       "grid_area": null,
       "grid_auto_columns": null,
       "grid_auto_flow": null,
       "grid_auto_rows": null,
       "grid_column": null,
       "grid_gap": null,
       "grid_row": null,
       "grid_template_areas": null,
       "grid_template_columns": null,
       "grid_template_rows": null,
       "height": null,
       "justify_content": null,
       "justify_items": null,
       "left": null,
       "margin": null,
       "max_height": null,
       "max_width": null,
       "min_height": null,
       "min_width": null,
       "object_fit": null,
       "object_position": null,
       "order": null,
       "overflow": null,
       "overflow_x": null,
       "overflow_y": null,
       "padding": null,
       "right": null,
       "top": null,
       "visibility": null,
       "width": null
      }
     },
     "fa1647ef12a343ca8d82543cff9b9574": {
      "model_module": "@jupyter-widgets/controls",
      "model_module_version": "1.5.0",
      "model_name": "HBoxModel",
      "state": {
       "_dom_classes": [],
       "_model_module": "@jupyter-widgets/controls",
       "_model_module_version": "1.5.0",
       "_model_name": "HBoxModel",
       "_view_count": null,
       "_view_module": "@jupyter-widgets/controls",
       "_view_module_version": "1.5.0",
       "_view_name": "HBoxView",
       "box_style": "",
       "children": [
        "IPY_MODEL_bcaba219412d4360a1474425dc8358a4",
        "IPY_MODEL_53d129d47c9a456fa28b18360a4a8712",
        "IPY_MODEL_722972bbf3484df4995d274e8f8ab37a"
       ],
       "layout": "IPY_MODEL_8c6fab0977164f6cab43b7ecfc89b673"
      }
     },
     "fb7d7a31937f4edba5407a0d110db84f": {
      "model_module": "@jupyter-widgets/controls",
      "model_module_version": "1.5.0",
      "model_name": "HTMLModel",
      "state": {
       "_dom_classes": [],
       "_model_module": "@jupyter-widgets/controls",
       "_model_module_version": "1.5.0",
       "_model_name": "HTMLModel",
       "_view_count": null,
       "_view_module": "@jupyter-widgets/controls",
       "_view_module_version": "1.5.0",
       "_view_name": "HTMLView",
       "description": "",
       "description_tooltip": null,
       "layout": "IPY_MODEL_f3b36cbce37c4091b3515d5769de7567",
       "placeholder": "​",
       "style": "IPY_MODEL_210f2c9993394f31952f7297adc4344c",
       "value": "config.json: 100%"
      }
     },
     "fe765593847f420aa693c37087a52984": {
      "model_module": "@jupyter-widgets/controls",
      "model_module_version": "1.5.0",
      "model_name": "HBoxModel",
      "state": {
       "_dom_classes": [],
       "_model_module": "@jupyter-widgets/controls",
       "_model_module_version": "1.5.0",
       "_model_name": "HBoxModel",
       "_view_count": null,
       "_view_module": "@jupyter-widgets/controls",
       "_view_module_version": "1.5.0",
       "_view_name": "HBoxView",
       "box_style": "",
       "children": [
        "IPY_MODEL_ac05144ac5ba4c37810f2f55fdf9dcdc",
        "IPY_MODEL_c8e86e325e444c24aa957642a8171407",
        "IPY_MODEL_699c119165af4dc1bb70beb01d3a2f99"
       ],
       "layout": "IPY_MODEL_28a8746ecf3a463e9e54e3e2fdac9887"
      }
     }
    },
    "version_major": 2,
    "version_minor": 0
   }
  }
 },
 "nbformat": 4,
 "nbformat_minor": 5
}
